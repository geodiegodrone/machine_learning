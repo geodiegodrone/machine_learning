{
  "nbformat": 4,
  "nbformat_minor": 0,
  "metadata": {
    "colab": {
      "provenance": []
    },
    "kernelspec": {
      "name": "python3",
      "display_name": "Python 3"
    }
  },
  "cells": [
    {
      "cell_type": "markdown",
      "metadata": {
        "id": "Ti5Wnz3cgkRD"
      },
      "source": [
        "# <center>PRÁCTICA 2: APRENDIZAJE SUPERVISADO (DengAI)<center>"
      ]
    },
    {
      "cell_type": "markdown",
      "source": [
        "**Estudiante**: Diego Felipe Pulido Sastoque\n",
        "\n",
        "**Datos del modelo final elegido**\n",
        "* MAE test (DrivenData): 27,4063\n",
        "* MAE validación: 13,4267\n",
        "* Algoritmo ML: Random Forest\n",
        "* Hiperparámetros: hp1=100; hp2=10\n",
        "* Lista de características: Combinación de múltiples árboles de decisión, aleatorización, Bootstrap(reducción de varianza), votación (se toma la predicción más común entre todos los árboles de decisión individuales en el modelo).\n",
        "* Resumen dataset (transformaciones, etc.): En el apartado de características de la práctica 1 se realizó el análisis estadístico del conjunto de datos y se aplicó la detección de outliers. Posterior a estos pasos se aplicaron diversos métodos de correlación de variables para determinar cuales son más representativas y así realizar una reducción de variables en el conjunto de datos. Se utilizaron métodos como análisis por mapa de calor, análisis por componentes principales, k-means, clustering jerárquico y clustering basado en densidad. De los últimos 3 métodos mencionados se observaron las siguientes variables en común en sus resultados:\n",
        "\n",
        "1. reanalysis_relative_humidity_percent\n",
        "2. reanalysis_avg_temp_k\n",
        "3. reanalysis_air_temp_k\n",
        "4. reanalysis_dew_point_temp_k\n",
        "5. reanalysis_precip_amt_kg_per_m2\n",
        "6. year\n",
        "7. weekofyear\n",
        "\n",
        "Las variables \"year\" y \"weekofyear\" se tuvieron en cuenta también con el objetivo de continuar el trabajo para la práctica 2 en la que se debe generar la respuesta a la cantidad de contagios en una semana específica del año."
      ],
      "metadata": {
        "id": "17ynPbr_h9CL"
      }
    },
    {
      "cell_type": "markdown",
      "source": [
        "---\n",
        "# Resumen\n",
        "---"
      ],
      "metadata": {
        "id": "Sf0UMczNiagx"
      }
    },
    {
      "cell_type": "markdown",
      "source": [
        "En esta práctica se continuará con lo realizado en la práctica 1 teniendo en cuenta que ya se eligieron las variables a analizar para realizar las predicciones mediante el uso de varios modelos como regresión lineal, árbol de decisión, bosques aleatorios, Support Vector Machine (SVM), Boosting y Bagging. Los resultados serán enviados a la pagina de la competición y también serán evaluados mediante una validación MAE."
      ],
      "metadata": {
        "id": "iCalkOB2ijXX"
      }
    },
    {
      "cell_type": "markdown",
      "source": [
        "---\n",
        "# Inicialización\n",
        "---"
      ],
      "metadata": {
        "id": "unP6GvpsjhPe"
      }
    },
    {
      "cell_type": "code",
      "metadata": {
        "id": "QcqAjsMIKluO"
      },
      "source": [
        "# Imports generales\n",
        "import pandas as pd\n",
        "import io\n",
        "from google.colab import files\n",
        "import numpy as np\n",
        "import time\n",
        "\n",
        "def upload_files (index_fields=None):\n",
        "  uploaded = files.upload()\n",
        "  for fn in uploaded.keys():\n",
        "    print('User uploaded file \"{name}\" with length {length} bytes'.format(\n",
        "        name=fn, length=len(uploaded[fn])))\n",
        "    df = pd.read_csv(io.StringIO(uploaded[fn].decode('utf-8')), index_col = index_fields)\n",
        "    \n",
        "    return df\n",
        "\n",
        "def download_predictions(test, pred_total_cases):\n",
        "  file_name = \"practica2_pred_\" + time.strftime(\"%Y\") + time.strftime(\"%m\") + time.strftime(\"%d\") + time.strftime(\"%H\") + time.strftime(\"%M\") + time.strftime(\"%S\") + \".csv\"\n",
        "  predictions = pd.DataFrame({ 'city': test['city'], 'year': test['year'], 'weekofyear': test['weekofyear'], 'total_cases': pred_total_cases})\n",
        "  with open(file_name, 'w') as f:\n",
        "    predictions.to_csv(f, index = False)\n",
        "  files.download(file_name)\n",
        "  print(\"Downloaded \" + file_name)"
      ],
      "execution_count": 1,
      "outputs": []
    },
    {
      "cell_type": "code",
      "metadata": {
        "id": "CRnebroi6Pwc",
        "colab": {
          "base_uri": "https://localhost:8080/",
          "height": 390
        },
        "outputId": "82b450bd-fe8e-45ce-937d-df5215c77a0a"
      },
      "source": [
        "# Subir el conjunto de entrenamiento sin variable objetivo (dengue_features_train.csv)\n",
        "train_feat = upload_files()\n",
        "print(train_feat.shape)\n",
        "train_feat.head()"
      ],
      "execution_count": 2,
      "outputs": [
        {
          "output_type": "display_data",
          "data": {
            "text/plain": [
              "<IPython.core.display.HTML object>"
            ],
            "text/html": [
              "\n",
              "     <input type=\"file\" id=\"files-e0844acf-d6cf-4a31-b0c8-2d1ba852edac\" name=\"files[]\" multiple disabled\n",
              "        style=\"border:none\" />\n",
              "     <output id=\"result-e0844acf-d6cf-4a31-b0c8-2d1ba852edac\">\n",
              "      Upload widget is only available when the cell has been executed in the\n",
              "      current browser session. Please rerun this cell to enable.\n",
              "      </output>\n",
              "      <script>// Copyright 2017 Google LLC\n",
              "//\n",
              "// Licensed under the Apache License, Version 2.0 (the \"License\");\n",
              "// you may not use this file except in compliance with the License.\n",
              "// You may obtain a copy of the License at\n",
              "//\n",
              "//      http://www.apache.org/licenses/LICENSE-2.0\n",
              "//\n",
              "// Unless required by applicable law or agreed to in writing, software\n",
              "// distributed under the License is distributed on an \"AS IS\" BASIS,\n",
              "// WITHOUT WARRANTIES OR CONDITIONS OF ANY KIND, either express or implied.\n",
              "// See the License for the specific language governing permissions and\n",
              "// limitations under the License.\n",
              "\n",
              "/**\n",
              " * @fileoverview Helpers for google.colab Python module.\n",
              " */\n",
              "(function(scope) {\n",
              "function span(text, styleAttributes = {}) {\n",
              "  const element = document.createElement('span');\n",
              "  element.textContent = text;\n",
              "  for (const key of Object.keys(styleAttributes)) {\n",
              "    element.style[key] = styleAttributes[key];\n",
              "  }\n",
              "  return element;\n",
              "}\n",
              "\n",
              "// Max number of bytes which will be uploaded at a time.\n",
              "const MAX_PAYLOAD_SIZE = 100 * 1024;\n",
              "\n",
              "function _uploadFiles(inputId, outputId) {\n",
              "  const steps = uploadFilesStep(inputId, outputId);\n",
              "  const outputElement = document.getElementById(outputId);\n",
              "  // Cache steps on the outputElement to make it available for the next call\n",
              "  // to uploadFilesContinue from Python.\n",
              "  outputElement.steps = steps;\n",
              "\n",
              "  return _uploadFilesContinue(outputId);\n",
              "}\n",
              "\n",
              "// This is roughly an async generator (not supported in the browser yet),\n",
              "// where there are multiple asynchronous steps and the Python side is going\n",
              "// to poll for completion of each step.\n",
              "// This uses a Promise to block the python side on completion of each step,\n",
              "// then passes the result of the previous step as the input to the next step.\n",
              "function _uploadFilesContinue(outputId) {\n",
              "  const outputElement = document.getElementById(outputId);\n",
              "  const steps = outputElement.steps;\n",
              "\n",
              "  const next = steps.next(outputElement.lastPromiseValue);\n",
              "  return Promise.resolve(next.value.promise).then((value) => {\n",
              "    // Cache the last promise value to make it available to the next\n",
              "    // step of the generator.\n",
              "    outputElement.lastPromiseValue = value;\n",
              "    return next.value.response;\n",
              "  });\n",
              "}\n",
              "\n",
              "/**\n",
              " * Generator function which is called between each async step of the upload\n",
              " * process.\n",
              " * @param {string} inputId Element ID of the input file picker element.\n",
              " * @param {string} outputId Element ID of the output display.\n",
              " * @return {!Iterable<!Object>} Iterable of next steps.\n",
              " */\n",
              "function* uploadFilesStep(inputId, outputId) {\n",
              "  const inputElement = document.getElementById(inputId);\n",
              "  inputElement.disabled = false;\n",
              "\n",
              "  const outputElement = document.getElementById(outputId);\n",
              "  outputElement.innerHTML = '';\n",
              "\n",
              "  const pickedPromise = new Promise((resolve) => {\n",
              "    inputElement.addEventListener('change', (e) => {\n",
              "      resolve(e.target.files);\n",
              "    });\n",
              "  });\n",
              "\n",
              "  const cancel = document.createElement('button');\n",
              "  inputElement.parentElement.appendChild(cancel);\n",
              "  cancel.textContent = 'Cancel upload';\n",
              "  const cancelPromise = new Promise((resolve) => {\n",
              "    cancel.onclick = () => {\n",
              "      resolve(null);\n",
              "    };\n",
              "  });\n",
              "\n",
              "  // Wait for the user to pick the files.\n",
              "  const files = yield {\n",
              "    promise: Promise.race([pickedPromise, cancelPromise]),\n",
              "    response: {\n",
              "      action: 'starting',\n",
              "    }\n",
              "  };\n",
              "\n",
              "  cancel.remove();\n",
              "\n",
              "  // Disable the input element since further picks are not allowed.\n",
              "  inputElement.disabled = true;\n",
              "\n",
              "  if (!files) {\n",
              "    return {\n",
              "      response: {\n",
              "        action: 'complete',\n",
              "      }\n",
              "    };\n",
              "  }\n",
              "\n",
              "  for (const file of files) {\n",
              "    const li = document.createElement('li');\n",
              "    li.append(span(file.name, {fontWeight: 'bold'}));\n",
              "    li.append(span(\n",
              "        `(${file.type || 'n/a'}) - ${file.size} bytes, ` +\n",
              "        `last modified: ${\n",
              "            file.lastModifiedDate ? file.lastModifiedDate.toLocaleDateString() :\n",
              "                                    'n/a'} - `));\n",
              "    const percent = span('0% done');\n",
              "    li.appendChild(percent);\n",
              "\n",
              "    outputElement.appendChild(li);\n",
              "\n",
              "    const fileDataPromise = new Promise((resolve) => {\n",
              "      const reader = new FileReader();\n",
              "      reader.onload = (e) => {\n",
              "        resolve(e.target.result);\n",
              "      };\n",
              "      reader.readAsArrayBuffer(file);\n",
              "    });\n",
              "    // Wait for the data to be ready.\n",
              "    let fileData = yield {\n",
              "      promise: fileDataPromise,\n",
              "      response: {\n",
              "        action: 'continue',\n",
              "      }\n",
              "    };\n",
              "\n",
              "    // Use a chunked sending to avoid message size limits. See b/62115660.\n",
              "    let position = 0;\n",
              "    do {\n",
              "      const length = Math.min(fileData.byteLength - position, MAX_PAYLOAD_SIZE);\n",
              "      const chunk = new Uint8Array(fileData, position, length);\n",
              "      position += length;\n",
              "\n",
              "      const base64 = btoa(String.fromCharCode.apply(null, chunk));\n",
              "      yield {\n",
              "        response: {\n",
              "          action: 'append',\n",
              "          file: file.name,\n",
              "          data: base64,\n",
              "        },\n",
              "      };\n",
              "\n",
              "      let percentDone = fileData.byteLength === 0 ?\n",
              "          100 :\n",
              "          Math.round((position / fileData.byteLength) * 100);\n",
              "      percent.textContent = `${percentDone}% done`;\n",
              "\n",
              "    } while (position < fileData.byteLength);\n",
              "  }\n",
              "\n",
              "  // All done.\n",
              "  yield {\n",
              "    response: {\n",
              "      action: 'complete',\n",
              "    }\n",
              "  };\n",
              "}\n",
              "\n",
              "scope.google = scope.google || {};\n",
              "scope.google.colab = scope.google.colab || {};\n",
              "scope.google.colab._files = {\n",
              "  _uploadFiles,\n",
              "  _uploadFilesContinue,\n",
              "};\n",
              "})(self);\n",
              "</script> "
            ]
          },
          "metadata": {}
        },
        {
          "output_type": "stream",
          "name": "stdout",
          "text": [
            "Saving dengue_features_train.csv to dengue_features_train.csv\n",
            "User uploaded file \"dengue_features_train.csv\" with length 287139 bytes\n",
            "(1456, 24)\n"
          ]
        },
        {
          "output_type": "execute_result",
          "data": {
            "text/plain": [
              "  city  year  weekofyear week_start_date   ndvi_ne   ndvi_nw   ndvi_se  \\\n",
              "0   sj  1990          18      1990-04-30  0.122600  0.103725  0.198483   \n",
              "1   sj  1990          19      1990-05-07  0.169900  0.142175  0.162357   \n",
              "2   sj  1990          20      1990-05-14  0.032250  0.172967  0.157200   \n",
              "3   sj  1990          21      1990-05-21  0.128633  0.245067  0.227557   \n",
              "4   sj  1990          22      1990-05-28  0.196200  0.262200  0.251200   \n",
              "\n",
              "    ndvi_sw  precipitation_amt_mm  reanalysis_air_temp_k  ...  \\\n",
              "0  0.177617                 12.42             297.572857  ...   \n",
              "1  0.155486                 22.82             298.211429  ...   \n",
              "2  0.170843                 34.54             298.781429  ...   \n",
              "3  0.235886                 15.36             298.987143  ...   \n",
              "4  0.247340                  7.52             299.518571  ...   \n",
              "\n",
              "   reanalysis_precip_amt_kg_per_m2  reanalysis_relative_humidity_percent  \\\n",
              "0                            32.00                             73.365714   \n",
              "1                            17.94                             77.368571   \n",
              "2                            26.10                             82.052857   \n",
              "3                            13.90                             80.337143   \n",
              "4                            12.20                             80.460000   \n",
              "\n",
              "   reanalysis_sat_precip_amt_mm  reanalysis_specific_humidity_g_per_kg  \\\n",
              "0                         12.42                              14.012857   \n",
              "1                         22.82                              15.372857   \n",
              "2                         34.54                              16.848571   \n",
              "3                         15.36                              16.672857   \n",
              "4                          7.52                              17.210000   \n",
              "\n",
              "   reanalysis_tdtr_k  station_avg_temp_c  station_diur_temp_rng_c  \\\n",
              "0           2.628571           25.442857                 6.900000   \n",
              "1           2.371429           26.714286                 6.371429   \n",
              "2           2.300000           26.714286                 6.485714   \n",
              "3           2.428571           27.471429                 6.771429   \n",
              "4           3.014286           28.942857                 9.371429   \n",
              "\n",
              "   station_max_temp_c  station_min_temp_c  station_precip_mm  \n",
              "0                29.4                20.0               16.0  \n",
              "1                31.7                22.2                8.6  \n",
              "2                32.2                22.8               41.4  \n",
              "3                33.3                23.3                4.0  \n",
              "4                35.0                23.9                5.8  \n",
              "\n",
              "[5 rows x 24 columns]"
            ],
            "text/html": [
              "\n",
              "  <div id=\"df-05f35dc6-b549-48ae-ba99-84e9a20c655a\">\n",
              "    <div class=\"colab-df-container\">\n",
              "      <div>\n",
              "<style scoped>\n",
              "    .dataframe tbody tr th:only-of-type {\n",
              "        vertical-align: middle;\n",
              "    }\n",
              "\n",
              "    .dataframe tbody tr th {\n",
              "        vertical-align: top;\n",
              "    }\n",
              "\n",
              "    .dataframe thead th {\n",
              "        text-align: right;\n",
              "    }\n",
              "</style>\n",
              "<table border=\"1\" class=\"dataframe\">\n",
              "  <thead>\n",
              "    <tr style=\"text-align: right;\">\n",
              "      <th></th>\n",
              "      <th>city</th>\n",
              "      <th>year</th>\n",
              "      <th>weekofyear</th>\n",
              "      <th>week_start_date</th>\n",
              "      <th>ndvi_ne</th>\n",
              "      <th>ndvi_nw</th>\n",
              "      <th>ndvi_se</th>\n",
              "      <th>ndvi_sw</th>\n",
              "      <th>precipitation_amt_mm</th>\n",
              "      <th>reanalysis_air_temp_k</th>\n",
              "      <th>...</th>\n",
              "      <th>reanalysis_precip_amt_kg_per_m2</th>\n",
              "      <th>reanalysis_relative_humidity_percent</th>\n",
              "      <th>reanalysis_sat_precip_amt_mm</th>\n",
              "      <th>reanalysis_specific_humidity_g_per_kg</th>\n",
              "      <th>reanalysis_tdtr_k</th>\n",
              "      <th>station_avg_temp_c</th>\n",
              "      <th>station_diur_temp_rng_c</th>\n",
              "      <th>station_max_temp_c</th>\n",
              "      <th>station_min_temp_c</th>\n",
              "      <th>station_precip_mm</th>\n",
              "    </tr>\n",
              "  </thead>\n",
              "  <tbody>\n",
              "    <tr>\n",
              "      <th>0</th>\n",
              "      <td>sj</td>\n",
              "      <td>1990</td>\n",
              "      <td>18</td>\n",
              "      <td>1990-04-30</td>\n",
              "      <td>0.122600</td>\n",
              "      <td>0.103725</td>\n",
              "      <td>0.198483</td>\n",
              "      <td>0.177617</td>\n",
              "      <td>12.42</td>\n",
              "      <td>297.572857</td>\n",
              "      <td>...</td>\n",
              "      <td>32.00</td>\n",
              "      <td>73.365714</td>\n",
              "      <td>12.42</td>\n",
              "      <td>14.012857</td>\n",
              "      <td>2.628571</td>\n",
              "      <td>25.442857</td>\n",
              "      <td>6.900000</td>\n",
              "      <td>29.4</td>\n",
              "      <td>20.0</td>\n",
              "      <td>16.0</td>\n",
              "    </tr>\n",
              "    <tr>\n",
              "      <th>1</th>\n",
              "      <td>sj</td>\n",
              "      <td>1990</td>\n",
              "      <td>19</td>\n",
              "      <td>1990-05-07</td>\n",
              "      <td>0.169900</td>\n",
              "      <td>0.142175</td>\n",
              "      <td>0.162357</td>\n",
              "      <td>0.155486</td>\n",
              "      <td>22.82</td>\n",
              "      <td>298.211429</td>\n",
              "      <td>...</td>\n",
              "      <td>17.94</td>\n",
              "      <td>77.368571</td>\n",
              "      <td>22.82</td>\n",
              "      <td>15.372857</td>\n",
              "      <td>2.371429</td>\n",
              "      <td>26.714286</td>\n",
              "      <td>6.371429</td>\n",
              "      <td>31.7</td>\n",
              "      <td>22.2</td>\n",
              "      <td>8.6</td>\n",
              "    </tr>\n",
              "    <tr>\n",
              "      <th>2</th>\n",
              "      <td>sj</td>\n",
              "      <td>1990</td>\n",
              "      <td>20</td>\n",
              "      <td>1990-05-14</td>\n",
              "      <td>0.032250</td>\n",
              "      <td>0.172967</td>\n",
              "      <td>0.157200</td>\n",
              "      <td>0.170843</td>\n",
              "      <td>34.54</td>\n",
              "      <td>298.781429</td>\n",
              "      <td>...</td>\n",
              "      <td>26.10</td>\n",
              "      <td>82.052857</td>\n",
              "      <td>34.54</td>\n",
              "      <td>16.848571</td>\n",
              "      <td>2.300000</td>\n",
              "      <td>26.714286</td>\n",
              "      <td>6.485714</td>\n",
              "      <td>32.2</td>\n",
              "      <td>22.8</td>\n",
              "      <td>41.4</td>\n",
              "    </tr>\n",
              "    <tr>\n",
              "      <th>3</th>\n",
              "      <td>sj</td>\n",
              "      <td>1990</td>\n",
              "      <td>21</td>\n",
              "      <td>1990-05-21</td>\n",
              "      <td>0.128633</td>\n",
              "      <td>0.245067</td>\n",
              "      <td>0.227557</td>\n",
              "      <td>0.235886</td>\n",
              "      <td>15.36</td>\n",
              "      <td>298.987143</td>\n",
              "      <td>...</td>\n",
              "      <td>13.90</td>\n",
              "      <td>80.337143</td>\n",
              "      <td>15.36</td>\n",
              "      <td>16.672857</td>\n",
              "      <td>2.428571</td>\n",
              "      <td>27.471429</td>\n",
              "      <td>6.771429</td>\n",
              "      <td>33.3</td>\n",
              "      <td>23.3</td>\n",
              "      <td>4.0</td>\n",
              "    </tr>\n",
              "    <tr>\n",
              "      <th>4</th>\n",
              "      <td>sj</td>\n",
              "      <td>1990</td>\n",
              "      <td>22</td>\n",
              "      <td>1990-05-28</td>\n",
              "      <td>0.196200</td>\n",
              "      <td>0.262200</td>\n",
              "      <td>0.251200</td>\n",
              "      <td>0.247340</td>\n",
              "      <td>7.52</td>\n",
              "      <td>299.518571</td>\n",
              "      <td>...</td>\n",
              "      <td>12.20</td>\n",
              "      <td>80.460000</td>\n",
              "      <td>7.52</td>\n",
              "      <td>17.210000</td>\n",
              "      <td>3.014286</td>\n",
              "      <td>28.942857</td>\n",
              "      <td>9.371429</td>\n",
              "      <td>35.0</td>\n",
              "      <td>23.9</td>\n",
              "      <td>5.8</td>\n",
              "    </tr>\n",
              "  </tbody>\n",
              "</table>\n",
              "<p>5 rows × 24 columns</p>\n",
              "</div>\n",
              "      <button class=\"colab-df-convert\" onclick=\"convertToInteractive('df-05f35dc6-b549-48ae-ba99-84e9a20c655a')\"\n",
              "              title=\"Convert this dataframe to an interactive table.\"\n",
              "              style=\"display:none;\">\n",
              "        \n",
              "  <svg xmlns=\"http://www.w3.org/2000/svg\" height=\"24px\"viewBox=\"0 0 24 24\"\n",
              "       width=\"24px\">\n",
              "    <path d=\"M0 0h24v24H0V0z\" fill=\"none\"/>\n",
              "    <path d=\"M18.56 5.44l.94 2.06.94-2.06 2.06-.94-2.06-.94-.94-2.06-.94 2.06-2.06.94zm-11 1L8.5 8.5l.94-2.06 2.06-.94-2.06-.94L8.5 2.5l-.94 2.06-2.06.94zm10 10l.94 2.06.94-2.06 2.06-.94-2.06-.94-.94-2.06-.94 2.06-2.06.94z\"/><path d=\"M17.41 7.96l-1.37-1.37c-.4-.4-.92-.59-1.43-.59-.52 0-1.04.2-1.43.59L10.3 9.45l-7.72 7.72c-.78.78-.78 2.05 0 2.83L4 21.41c.39.39.9.59 1.41.59.51 0 1.02-.2 1.41-.59l7.78-7.78 2.81-2.81c.8-.78.8-2.07 0-2.86zM5.41 20L4 18.59l7.72-7.72 1.47 1.35L5.41 20z\"/>\n",
              "  </svg>\n",
              "      </button>\n",
              "      \n",
              "  <style>\n",
              "    .colab-df-container {\n",
              "      display:flex;\n",
              "      flex-wrap:wrap;\n",
              "      gap: 12px;\n",
              "    }\n",
              "\n",
              "    .colab-df-convert {\n",
              "      background-color: #E8F0FE;\n",
              "      border: none;\n",
              "      border-radius: 50%;\n",
              "      cursor: pointer;\n",
              "      display: none;\n",
              "      fill: #1967D2;\n",
              "      height: 32px;\n",
              "      padding: 0 0 0 0;\n",
              "      width: 32px;\n",
              "    }\n",
              "\n",
              "    .colab-df-convert:hover {\n",
              "      background-color: #E2EBFA;\n",
              "      box-shadow: 0px 1px 2px rgba(60, 64, 67, 0.3), 0px 1px 3px 1px rgba(60, 64, 67, 0.15);\n",
              "      fill: #174EA6;\n",
              "    }\n",
              "\n",
              "    [theme=dark] .colab-df-convert {\n",
              "      background-color: #3B4455;\n",
              "      fill: #D2E3FC;\n",
              "    }\n",
              "\n",
              "    [theme=dark] .colab-df-convert:hover {\n",
              "      background-color: #434B5C;\n",
              "      box-shadow: 0px 1px 3px 1px rgba(0, 0, 0, 0.15);\n",
              "      filter: drop-shadow(0px 1px 2px rgba(0, 0, 0, 0.3));\n",
              "      fill: #FFFFFF;\n",
              "    }\n",
              "  </style>\n",
              "\n",
              "      <script>\n",
              "        const buttonEl =\n",
              "          document.querySelector('#df-05f35dc6-b549-48ae-ba99-84e9a20c655a button.colab-df-convert');\n",
              "        buttonEl.style.display =\n",
              "          google.colab.kernel.accessAllowed ? 'block' : 'none';\n",
              "\n",
              "        async function convertToInteractive(key) {\n",
              "          const element = document.querySelector('#df-05f35dc6-b549-48ae-ba99-84e9a20c655a');\n",
              "          const dataTable =\n",
              "            await google.colab.kernel.invokeFunction('convertToInteractive',\n",
              "                                                     [key], {});\n",
              "          if (!dataTable) return;\n",
              "\n",
              "          const docLinkHtml = 'Like what you see? Visit the ' +\n",
              "            '<a target=\"_blank\" href=https://colab.research.google.com/notebooks/data_table.ipynb>data table notebook</a>'\n",
              "            + ' to learn more about interactive tables.';\n",
              "          element.innerHTML = '';\n",
              "          dataTable['output_type'] = 'display_data';\n",
              "          await google.colab.output.renderOutput(dataTable, element);\n",
              "          const docLink = document.createElement('div');\n",
              "          docLink.innerHTML = docLinkHtml;\n",
              "          element.appendChild(docLink);\n",
              "        }\n",
              "      </script>\n",
              "    </div>\n",
              "  </div>\n",
              "  "
            ]
          },
          "metadata": {},
          "execution_count": 2
        }
      ]
    },
    {
      "cell_type": "code",
      "metadata": {
        "id": "GE8BnvDD7olL",
        "colab": {
          "base_uri": "https://localhost:8080/",
          "height": 390
        },
        "outputId": "565c3454-a276-4594-854f-1a4ee35444e8"
      },
      "source": [
        "# Subir la variable objetivo total_cases del conjunto de entrenamiento (dengue_labels_train.csv)\n",
        "train_labels = upload_files()\n",
        "\n",
        "# Unificar el conjunto de entrenamiento (características + variable objetivo)\n",
        "train = pd.merge(train_feat,train_labels,on=['city', 'year', 'weekofyear'])\n",
        "print(train.shape)\n",
        "train.head()"
      ],
      "execution_count": 3,
      "outputs": [
        {
          "output_type": "display_data",
          "data": {
            "text/plain": [
              "<IPython.core.display.HTML object>"
            ],
            "text/html": [
              "\n",
              "     <input type=\"file\" id=\"files-a8817335-b358-4bc2-b992-0b01022d5463\" name=\"files[]\" multiple disabled\n",
              "        style=\"border:none\" />\n",
              "     <output id=\"result-a8817335-b358-4bc2-b992-0b01022d5463\">\n",
              "      Upload widget is only available when the cell has been executed in the\n",
              "      current browser session. Please rerun this cell to enable.\n",
              "      </output>\n",
              "      <script>// Copyright 2017 Google LLC\n",
              "//\n",
              "// Licensed under the Apache License, Version 2.0 (the \"License\");\n",
              "// you may not use this file except in compliance with the License.\n",
              "// You may obtain a copy of the License at\n",
              "//\n",
              "//      http://www.apache.org/licenses/LICENSE-2.0\n",
              "//\n",
              "// Unless required by applicable law or agreed to in writing, software\n",
              "// distributed under the License is distributed on an \"AS IS\" BASIS,\n",
              "// WITHOUT WARRANTIES OR CONDITIONS OF ANY KIND, either express or implied.\n",
              "// See the License for the specific language governing permissions and\n",
              "// limitations under the License.\n",
              "\n",
              "/**\n",
              " * @fileoverview Helpers for google.colab Python module.\n",
              " */\n",
              "(function(scope) {\n",
              "function span(text, styleAttributes = {}) {\n",
              "  const element = document.createElement('span');\n",
              "  element.textContent = text;\n",
              "  for (const key of Object.keys(styleAttributes)) {\n",
              "    element.style[key] = styleAttributes[key];\n",
              "  }\n",
              "  return element;\n",
              "}\n",
              "\n",
              "// Max number of bytes which will be uploaded at a time.\n",
              "const MAX_PAYLOAD_SIZE = 100 * 1024;\n",
              "\n",
              "function _uploadFiles(inputId, outputId) {\n",
              "  const steps = uploadFilesStep(inputId, outputId);\n",
              "  const outputElement = document.getElementById(outputId);\n",
              "  // Cache steps on the outputElement to make it available for the next call\n",
              "  // to uploadFilesContinue from Python.\n",
              "  outputElement.steps = steps;\n",
              "\n",
              "  return _uploadFilesContinue(outputId);\n",
              "}\n",
              "\n",
              "// This is roughly an async generator (not supported in the browser yet),\n",
              "// where there are multiple asynchronous steps and the Python side is going\n",
              "// to poll for completion of each step.\n",
              "// This uses a Promise to block the python side on completion of each step,\n",
              "// then passes the result of the previous step as the input to the next step.\n",
              "function _uploadFilesContinue(outputId) {\n",
              "  const outputElement = document.getElementById(outputId);\n",
              "  const steps = outputElement.steps;\n",
              "\n",
              "  const next = steps.next(outputElement.lastPromiseValue);\n",
              "  return Promise.resolve(next.value.promise).then((value) => {\n",
              "    // Cache the last promise value to make it available to the next\n",
              "    // step of the generator.\n",
              "    outputElement.lastPromiseValue = value;\n",
              "    return next.value.response;\n",
              "  });\n",
              "}\n",
              "\n",
              "/**\n",
              " * Generator function which is called between each async step of the upload\n",
              " * process.\n",
              " * @param {string} inputId Element ID of the input file picker element.\n",
              " * @param {string} outputId Element ID of the output display.\n",
              " * @return {!Iterable<!Object>} Iterable of next steps.\n",
              " */\n",
              "function* uploadFilesStep(inputId, outputId) {\n",
              "  const inputElement = document.getElementById(inputId);\n",
              "  inputElement.disabled = false;\n",
              "\n",
              "  const outputElement = document.getElementById(outputId);\n",
              "  outputElement.innerHTML = '';\n",
              "\n",
              "  const pickedPromise = new Promise((resolve) => {\n",
              "    inputElement.addEventListener('change', (e) => {\n",
              "      resolve(e.target.files);\n",
              "    });\n",
              "  });\n",
              "\n",
              "  const cancel = document.createElement('button');\n",
              "  inputElement.parentElement.appendChild(cancel);\n",
              "  cancel.textContent = 'Cancel upload';\n",
              "  const cancelPromise = new Promise((resolve) => {\n",
              "    cancel.onclick = () => {\n",
              "      resolve(null);\n",
              "    };\n",
              "  });\n",
              "\n",
              "  // Wait for the user to pick the files.\n",
              "  const files = yield {\n",
              "    promise: Promise.race([pickedPromise, cancelPromise]),\n",
              "    response: {\n",
              "      action: 'starting',\n",
              "    }\n",
              "  };\n",
              "\n",
              "  cancel.remove();\n",
              "\n",
              "  // Disable the input element since further picks are not allowed.\n",
              "  inputElement.disabled = true;\n",
              "\n",
              "  if (!files) {\n",
              "    return {\n",
              "      response: {\n",
              "        action: 'complete',\n",
              "      }\n",
              "    };\n",
              "  }\n",
              "\n",
              "  for (const file of files) {\n",
              "    const li = document.createElement('li');\n",
              "    li.append(span(file.name, {fontWeight: 'bold'}));\n",
              "    li.append(span(\n",
              "        `(${file.type || 'n/a'}) - ${file.size} bytes, ` +\n",
              "        `last modified: ${\n",
              "            file.lastModifiedDate ? file.lastModifiedDate.toLocaleDateString() :\n",
              "                                    'n/a'} - `));\n",
              "    const percent = span('0% done');\n",
              "    li.appendChild(percent);\n",
              "\n",
              "    outputElement.appendChild(li);\n",
              "\n",
              "    const fileDataPromise = new Promise((resolve) => {\n",
              "      const reader = new FileReader();\n",
              "      reader.onload = (e) => {\n",
              "        resolve(e.target.result);\n",
              "      };\n",
              "      reader.readAsArrayBuffer(file);\n",
              "    });\n",
              "    // Wait for the data to be ready.\n",
              "    let fileData = yield {\n",
              "      promise: fileDataPromise,\n",
              "      response: {\n",
              "        action: 'continue',\n",
              "      }\n",
              "    };\n",
              "\n",
              "    // Use a chunked sending to avoid message size limits. See b/62115660.\n",
              "    let position = 0;\n",
              "    do {\n",
              "      const length = Math.min(fileData.byteLength - position, MAX_PAYLOAD_SIZE);\n",
              "      const chunk = new Uint8Array(fileData, position, length);\n",
              "      position += length;\n",
              "\n",
              "      const base64 = btoa(String.fromCharCode.apply(null, chunk));\n",
              "      yield {\n",
              "        response: {\n",
              "          action: 'append',\n",
              "          file: file.name,\n",
              "          data: base64,\n",
              "        },\n",
              "      };\n",
              "\n",
              "      let percentDone = fileData.byteLength === 0 ?\n",
              "          100 :\n",
              "          Math.round((position / fileData.byteLength) * 100);\n",
              "      percent.textContent = `${percentDone}% done`;\n",
              "\n",
              "    } while (position < fileData.byteLength);\n",
              "  }\n",
              "\n",
              "  // All done.\n",
              "  yield {\n",
              "    response: {\n",
              "      action: 'complete',\n",
              "    }\n",
              "  };\n",
              "}\n",
              "\n",
              "scope.google = scope.google || {};\n",
              "scope.google.colab = scope.google.colab || {};\n",
              "scope.google.colab._files = {\n",
              "  _uploadFiles,\n",
              "  _uploadFilesContinue,\n",
              "};\n",
              "})(self);\n",
              "</script> "
            ]
          },
          "metadata": {}
        },
        {
          "output_type": "stream",
          "name": "stdout",
          "text": [
            "Saving dengue_labels_train.csv to dengue_labels_train.csv\n",
            "User uploaded file \"dengue_labels_train.csv\" with length 19582 bytes\n",
            "(1456, 25)\n"
          ]
        },
        {
          "output_type": "execute_result",
          "data": {
            "text/plain": [
              "  city  year  weekofyear week_start_date   ndvi_ne   ndvi_nw   ndvi_se  \\\n",
              "0   sj  1990          18      1990-04-30  0.122600  0.103725  0.198483   \n",
              "1   sj  1990          19      1990-05-07  0.169900  0.142175  0.162357   \n",
              "2   sj  1990          20      1990-05-14  0.032250  0.172967  0.157200   \n",
              "3   sj  1990          21      1990-05-21  0.128633  0.245067  0.227557   \n",
              "4   sj  1990          22      1990-05-28  0.196200  0.262200  0.251200   \n",
              "\n",
              "    ndvi_sw  precipitation_amt_mm  reanalysis_air_temp_k  ...  \\\n",
              "0  0.177617                 12.42             297.572857  ...   \n",
              "1  0.155486                 22.82             298.211429  ...   \n",
              "2  0.170843                 34.54             298.781429  ...   \n",
              "3  0.235886                 15.36             298.987143  ...   \n",
              "4  0.247340                  7.52             299.518571  ...   \n",
              "\n",
              "   reanalysis_relative_humidity_percent  reanalysis_sat_precip_amt_mm  \\\n",
              "0                             73.365714                         12.42   \n",
              "1                             77.368571                         22.82   \n",
              "2                             82.052857                         34.54   \n",
              "3                             80.337143                         15.36   \n",
              "4                             80.460000                          7.52   \n",
              "\n",
              "   reanalysis_specific_humidity_g_per_kg  reanalysis_tdtr_k  \\\n",
              "0                              14.012857           2.628571   \n",
              "1                              15.372857           2.371429   \n",
              "2                              16.848571           2.300000   \n",
              "3                              16.672857           2.428571   \n",
              "4                              17.210000           3.014286   \n",
              "\n",
              "   station_avg_temp_c  station_diur_temp_rng_c  station_max_temp_c  \\\n",
              "0           25.442857                 6.900000                29.4   \n",
              "1           26.714286                 6.371429                31.7   \n",
              "2           26.714286                 6.485714                32.2   \n",
              "3           27.471429                 6.771429                33.3   \n",
              "4           28.942857                 9.371429                35.0   \n",
              "\n",
              "   station_min_temp_c  station_precip_mm  total_cases  \n",
              "0                20.0               16.0            4  \n",
              "1                22.2                8.6            5  \n",
              "2                22.8               41.4            4  \n",
              "3                23.3                4.0            3  \n",
              "4                23.9                5.8            6  \n",
              "\n",
              "[5 rows x 25 columns]"
            ],
            "text/html": [
              "\n",
              "  <div id=\"df-38855f1f-b080-4495-bf96-c8bbb6bd37d8\">\n",
              "    <div class=\"colab-df-container\">\n",
              "      <div>\n",
              "<style scoped>\n",
              "    .dataframe tbody tr th:only-of-type {\n",
              "        vertical-align: middle;\n",
              "    }\n",
              "\n",
              "    .dataframe tbody tr th {\n",
              "        vertical-align: top;\n",
              "    }\n",
              "\n",
              "    .dataframe thead th {\n",
              "        text-align: right;\n",
              "    }\n",
              "</style>\n",
              "<table border=\"1\" class=\"dataframe\">\n",
              "  <thead>\n",
              "    <tr style=\"text-align: right;\">\n",
              "      <th></th>\n",
              "      <th>city</th>\n",
              "      <th>year</th>\n",
              "      <th>weekofyear</th>\n",
              "      <th>week_start_date</th>\n",
              "      <th>ndvi_ne</th>\n",
              "      <th>ndvi_nw</th>\n",
              "      <th>ndvi_se</th>\n",
              "      <th>ndvi_sw</th>\n",
              "      <th>precipitation_amt_mm</th>\n",
              "      <th>reanalysis_air_temp_k</th>\n",
              "      <th>...</th>\n",
              "      <th>reanalysis_relative_humidity_percent</th>\n",
              "      <th>reanalysis_sat_precip_amt_mm</th>\n",
              "      <th>reanalysis_specific_humidity_g_per_kg</th>\n",
              "      <th>reanalysis_tdtr_k</th>\n",
              "      <th>station_avg_temp_c</th>\n",
              "      <th>station_diur_temp_rng_c</th>\n",
              "      <th>station_max_temp_c</th>\n",
              "      <th>station_min_temp_c</th>\n",
              "      <th>station_precip_mm</th>\n",
              "      <th>total_cases</th>\n",
              "    </tr>\n",
              "  </thead>\n",
              "  <tbody>\n",
              "    <tr>\n",
              "      <th>0</th>\n",
              "      <td>sj</td>\n",
              "      <td>1990</td>\n",
              "      <td>18</td>\n",
              "      <td>1990-04-30</td>\n",
              "      <td>0.122600</td>\n",
              "      <td>0.103725</td>\n",
              "      <td>0.198483</td>\n",
              "      <td>0.177617</td>\n",
              "      <td>12.42</td>\n",
              "      <td>297.572857</td>\n",
              "      <td>...</td>\n",
              "      <td>73.365714</td>\n",
              "      <td>12.42</td>\n",
              "      <td>14.012857</td>\n",
              "      <td>2.628571</td>\n",
              "      <td>25.442857</td>\n",
              "      <td>6.900000</td>\n",
              "      <td>29.4</td>\n",
              "      <td>20.0</td>\n",
              "      <td>16.0</td>\n",
              "      <td>4</td>\n",
              "    </tr>\n",
              "    <tr>\n",
              "      <th>1</th>\n",
              "      <td>sj</td>\n",
              "      <td>1990</td>\n",
              "      <td>19</td>\n",
              "      <td>1990-05-07</td>\n",
              "      <td>0.169900</td>\n",
              "      <td>0.142175</td>\n",
              "      <td>0.162357</td>\n",
              "      <td>0.155486</td>\n",
              "      <td>22.82</td>\n",
              "      <td>298.211429</td>\n",
              "      <td>...</td>\n",
              "      <td>77.368571</td>\n",
              "      <td>22.82</td>\n",
              "      <td>15.372857</td>\n",
              "      <td>2.371429</td>\n",
              "      <td>26.714286</td>\n",
              "      <td>6.371429</td>\n",
              "      <td>31.7</td>\n",
              "      <td>22.2</td>\n",
              "      <td>8.6</td>\n",
              "      <td>5</td>\n",
              "    </tr>\n",
              "    <tr>\n",
              "      <th>2</th>\n",
              "      <td>sj</td>\n",
              "      <td>1990</td>\n",
              "      <td>20</td>\n",
              "      <td>1990-05-14</td>\n",
              "      <td>0.032250</td>\n",
              "      <td>0.172967</td>\n",
              "      <td>0.157200</td>\n",
              "      <td>0.170843</td>\n",
              "      <td>34.54</td>\n",
              "      <td>298.781429</td>\n",
              "      <td>...</td>\n",
              "      <td>82.052857</td>\n",
              "      <td>34.54</td>\n",
              "      <td>16.848571</td>\n",
              "      <td>2.300000</td>\n",
              "      <td>26.714286</td>\n",
              "      <td>6.485714</td>\n",
              "      <td>32.2</td>\n",
              "      <td>22.8</td>\n",
              "      <td>41.4</td>\n",
              "      <td>4</td>\n",
              "    </tr>\n",
              "    <tr>\n",
              "      <th>3</th>\n",
              "      <td>sj</td>\n",
              "      <td>1990</td>\n",
              "      <td>21</td>\n",
              "      <td>1990-05-21</td>\n",
              "      <td>0.128633</td>\n",
              "      <td>0.245067</td>\n",
              "      <td>0.227557</td>\n",
              "      <td>0.235886</td>\n",
              "      <td>15.36</td>\n",
              "      <td>298.987143</td>\n",
              "      <td>...</td>\n",
              "      <td>80.337143</td>\n",
              "      <td>15.36</td>\n",
              "      <td>16.672857</td>\n",
              "      <td>2.428571</td>\n",
              "      <td>27.471429</td>\n",
              "      <td>6.771429</td>\n",
              "      <td>33.3</td>\n",
              "      <td>23.3</td>\n",
              "      <td>4.0</td>\n",
              "      <td>3</td>\n",
              "    </tr>\n",
              "    <tr>\n",
              "      <th>4</th>\n",
              "      <td>sj</td>\n",
              "      <td>1990</td>\n",
              "      <td>22</td>\n",
              "      <td>1990-05-28</td>\n",
              "      <td>0.196200</td>\n",
              "      <td>0.262200</td>\n",
              "      <td>0.251200</td>\n",
              "      <td>0.247340</td>\n",
              "      <td>7.52</td>\n",
              "      <td>299.518571</td>\n",
              "      <td>...</td>\n",
              "      <td>80.460000</td>\n",
              "      <td>7.52</td>\n",
              "      <td>17.210000</td>\n",
              "      <td>3.014286</td>\n",
              "      <td>28.942857</td>\n",
              "      <td>9.371429</td>\n",
              "      <td>35.0</td>\n",
              "      <td>23.9</td>\n",
              "      <td>5.8</td>\n",
              "      <td>6</td>\n",
              "    </tr>\n",
              "  </tbody>\n",
              "</table>\n",
              "<p>5 rows × 25 columns</p>\n",
              "</div>\n",
              "      <button class=\"colab-df-convert\" onclick=\"convertToInteractive('df-38855f1f-b080-4495-bf96-c8bbb6bd37d8')\"\n",
              "              title=\"Convert this dataframe to an interactive table.\"\n",
              "              style=\"display:none;\">\n",
              "        \n",
              "  <svg xmlns=\"http://www.w3.org/2000/svg\" height=\"24px\"viewBox=\"0 0 24 24\"\n",
              "       width=\"24px\">\n",
              "    <path d=\"M0 0h24v24H0V0z\" fill=\"none\"/>\n",
              "    <path d=\"M18.56 5.44l.94 2.06.94-2.06 2.06-.94-2.06-.94-.94-2.06-.94 2.06-2.06.94zm-11 1L8.5 8.5l.94-2.06 2.06-.94-2.06-.94L8.5 2.5l-.94 2.06-2.06.94zm10 10l.94 2.06.94-2.06 2.06-.94-2.06-.94-.94-2.06-.94 2.06-2.06.94z\"/><path d=\"M17.41 7.96l-1.37-1.37c-.4-.4-.92-.59-1.43-.59-.52 0-1.04.2-1.43.59L10.3 9.45l-7.72 7.72c-.78.78-.78 2.05 0 2.83L4 21.41c.39.39.9.59 1.41.59.51 0 1.02-.2 1.41-.59l7.78-7.78 2.81-2.81c.8-.78.8-2.07 0-2.86zM5.41 20L4 18.59l7.72-7.72 1.47 1.35L5.41 20z\"/>\n",
              "  </svg>\n",
              "      </button>\n",
              "      \n",
              "  <style>\n",
              "    .colab-df-container {\n",
              "      display:flex;\n",
              "      flex-wrap:wrap;\n",
              "      gap: 12px;\n",
              "    }\n",
              "\n",
              "    .colab-df-convert {\n",
              "      background-color: #E8F0FE;\n",
              "      border: none;\n",
              "      border-radius: 50%;\n",
              "      cursor: pointer;\n",
              "      display: none;\n",
              "      fill: #1967D2;\n",
              "      height: 32px;\n",
              "      padding: 0 0 0 0;\n",
              "      width: 32px;\n",
              "    }\n",
              "\n",
              "    .colab-df-convert:hover {\n",
              "      background-color: #E2EBFA;\n",
              "      box-shadow: 0px 1px 2px rgba(60, 64, 67, 0.3), 0px 1px 3px 1px rgba(60, 64, 67, 0.15);\n",
              "      fill: #174EA6;\n",
              "    }\n",
              "\n",
              "    [theme=dark] .colab-df-convert {\n",
              "      background-color: #3B4455;\n",
              "      fill: #D2E3FC;\n",
              "    }\n",
              "\n",
              "    [theme=dark] .colab-df-convert:hover {\n",
              "      background-color: #434B5C;\n",
              "      box-shadow: 0px 1px 3px 1px rgba(0, 0, 0, 0.15);\n",
              "      filter: drop-shadow(0px 1px 2px rgba(0, 0, 0, 0.3));\n",
              "      fill: #FFFFFF;\n",
              "    }\n",
              "  </style>\n",
              "\n",
              "      <script>\n",
              "        const buttonEl =\n",
              "          document.querySelector('#df-38855f1f-b080-4495-bf96-c8bbb6bd37d8 button.colab-df-convert');\n",
              "        buttonEl.style.display =\n",
              "          google.colab.kernel.accessAllowed ? 'block' : 'none';\n",
              "\n",
              "        async function convertToInteractive(key) {\n",
              "          const element = document.querySelector('#df-38855f1f-b080-4495-bf96-c8bbb6bd37d8');\n",
              "          const dataTable =\n",
              "            await google.colab.kernel.invokeFunction('convertToInteractive',\n",
              "                                                     [key], {});\n",
              "          if (!dataTable) return;\n",
              "\n",
              "          const docLinkHtml = 'Like what you see? Visit the ' +\n",
              "            '<a target=\"_blank\" href=https://colab.research.google.com/notebooks/data_table.ipynb>data table notebook</a>'\n",
              "            + ' to learn more about interactive tables.';\n",
              "          element.innerHTML = '';\n",
              "          dataTable['output_type'] = 'display_data';\n",
              "          await google.colab.output.renderOutput(dataTable, element);\n",
              "          const docLink = document.createElement('div');\n",
              "          docLink.innerHTML = docLinkHtml;\n",
              "          element.appendChild(docLink);\n",
              "        }\n",
              "      </script>\n",
              "    </div>\n",
              "  </div>\n",
              "  "
            ]
          },
          "metadata": {},
          "execution_count": 3
        }
      ]
    },
    {
      "cell_type": "code",
      "metadata": {
        "id": "vUWoUirN8TQ7",
        "colab": {
          "base_uri": "https://localhost:8080/",
          "height": 390
        },
        "outputId": "af030122-1389-4511-e30c-5e92108acb87"
      },
      "source": [
        "# Subir el conjunto de test sin variable objetivo (dengue_features_test.csv)\n",
        "test = upload_files()\n",
        "print(test.shape)\n",
        "test.head()"
      ],
      "execution_count": 4,
      "outputs": [
        {
          "output_type": "display_data",
          "data": {
            "text/plain": [
              "<IPython.core.display.HTML object>"
            ],
            "text/html": [
              "\n",
              "     <input type=\"file\" id=\"files-faf948a6-f62a-42a5-ac68-13378ecc0f5a\" name=\"files[]\" multiple disabled\n",
              "        style=\"border:none\" />\n",
              "     <output id=\"result-faf948a6-f62a-42a5-ac68-13378ecc0f5a\">\n",
              "      Upload widget is only available when the cell has been executed in the\n",
              "      current browser session. Please rerun this cell to enable.\n",
              "      </output>\n",
              "      <script>// Copyright 2017 Google LLC\n",
              "//\n",
              "// Licensed under the Apache License, Version 2.0 (the \"License\");\n",
              "// you may not use this file except in compliance with the License.\n",
              "// You may obtain a copy of the License at\n",
              "//\n",
              "//      http://www.apache.org/licenses/LICENSE-2.0\n",
              "//\n",
              "// Unless required by applicable law or agreed to in writing, software\n",
              "// distributed under the License is distributed on an \"AS IS\" BASIS,\n",
              "// WITHOUT WARRANTIES OR CONDITIONS OF ANY KIND, either express or implied.\n",
              "// See the License for the specific language governing permissions and\n",
              "// limitations under the License.\n",
              "\n",
              "/**\n",
              " * @fileoverview Helpers for google.colab Python module.\n",
              " */\n",
              "(function(scope) {\n",
              "function span(text, styleAttributes = {}) {\n",
              "  const element = document.createElement('span');\n",
              "  element.textContent = text;\n",
              "  for (const key of Object.keys(styleAttributes)) {\n",
              "    element.style[key] = styleAttributes[key];\n",
              "  }\n",
              "  return element;\n",
              "}\n",
              "\n",
              "// Max number of bytes which will be uploaded at a time.\n",
              "const MAX_PAYLOAD_SIZE = 100 * 1024;\n",
              "\n",
              "function _uploadFiles(inputId, outputId) {\n",
              "  const steps = uploadFilesStep(inputId, outputId);\n",
              "  const outputElement = document.getElementById(outputId);\n",
              "  // Cache steps on the outputElement to make it available for the next call\n",
              "  // to uploadFilesContinue from Python.\n",
              "  outputElement.steps = steps;\n",
              "\n",
              "  return _uploadFilesContinue(outputId);\n",
              "}\n",
              "\n",
              "// This is roughly an async generator (not supported in the browser yet),\n",
              "// where there are multiple asynchronous steps and the Python side is going\n",
              "// to poll for completion of each step.\n",
              "// This uses a Promise to block the python side on completion of each step,\n",
              "// then passes the result of the previous step as the input to the next step.\n",
              "function _uploadFilesContinue(outputId) {\n",
              "  const outputElement = document.getElementById(outputId);\n",
              "  const steps = outputElement.steps;\n",
              "\n",
              "  const next = steps.next(outputElement.lastPromiseValue);\n",
              "  return Promise.resolve(next.value.promise).then((value) => {\n",
              "    // Cache the last promise value to make it available to the next\n",
              "    // step of the generator.\n",
              "    outputElement.lastPromiseValue = value;\n",
              "    return next.value.response;\n",
              "  });\n",
              "}\n",
              "\n",
              "/**\n",
              " * Generator function which is called between each async step of the upload\n",
              " * process.\n",
              " * @param {string} inputId Element ID of the input file picker element.\n",
              " * @param {string} outputId Element ID of the output display.\n",
              " * @return {!Iterable<!Object>} Iterable of next steps.\n",
              " */\n",
              "function* uploadFilesStep(inputId, outputId) {\n",
              "  const inputElement = document.getElementById(inputId);\n",
              "  inputElement.disabled = false;\n",
              "\n",
              "  const outputElement = document.getElementById(outputId);\n",
              "  outputElement.innerHTML = '';\n",
              "\n",
              "  const pickedPromise = new Promise((resolve) => {\n",
              "    inputElement.addEventListener('change', (e) => {\n",
              "      resolve(e.target.files);\n",
              "    });\n",
              "  });\n",
              "\n",
              "  const cancel = document.createElement('button');\n",
              "  inputElement.parentElement.appendChild(cancel);\n",
              "  cancel.textContent = 'Cancel upload';\n",
              "  const cancelPromise = new Promise((resolve) => {\n",
              "    cancel.onclick = () => {\n",
              "      resolve(null);\n",
              "    };\n",
              "  });\n",
              "\n",
              "  // Wait for the user to pick the files.\n",
              "  const files = yield {\n",
              "    promise: Promise.race([pickedPromise, cancelPromise]),\n",
              "    response: {\n",
              "      action: 'starting',\n",
              "    }\n",
              "  };\n",
              "\n",
              "  cancel.remove();\n",
              "\n",
              "  // Disable the input element since further picks are not allowed.\n",
              "  inputElement.disabled = true;\n",
              "\n",
              "  if (!files) {\n",
              "    return {\n",
              "      response: {\n",
              "        action: 'complete',\n",
              "      }\n",
              "    };\n",
              "  }\n",
              "\n",
              "  for (const file of files) {\n",
              "    const li = document.createElement('li');\n",
              "    li.append(span(file.name, {fontWeight: 'bold'}));\n",
              "    li.append(span(\n",
              "        `(${file.type || 'n/a'}) - ${file.size} bytes, ` +\n",
              "        `last modified: ${\n",
              "            file.lastModifiedDate ? file.lastModifiedDate.toLocaleDateString() :\n",
              "                                    'n/a'} - `));\n",
              "    const percent = span('0% done');\n",
              "    li.appendChild(percent);\n",
              "\n",
              "    outputElement.appendChild(li);\n",
              "\n",
              "    const fileDataPromise = new Promise((resolve) => {\n",
              "      const reader = new FileReader();\n",
              "      reader.onload = (e) => {\n",
              "        resolve(e.target.result);\n",
              "      };\n",
              "      reader.readAsArrayBuffer(file);\n",
              "    });\n",
              "    // Wait for the data to be ready.\n",
              "    let fileData = yield {\n",
              "      promise: fileDataPromise,\n",
              "      response: {\n",
              "        action: 'continue',\n",
              "      }\n",
              "    };\n",
              "\n",
              "    // Use a chunked sending to avoid message size limits. See b/62115660.\n",
              "    let position = 0;\n",
              "    do {\n",
              "      const length = Math.min(fileData.byteLength - position, MAX_PAYLOAD_SIZE);\n",
              "      const chunk = new Uint8Array(fileData, position, length);\n",
              "      position += length;\n",
              "\n",
              "      const base64 = btoa(String.fromCharCode.apply(null, chunk));\n",
              "      yield {\n",
              "        response: {\n",
              "          action: 'append',\n",
              "          file: file.name,\n",
              "          data: base64,\n",
              "        },\n",
              "      };\n",
              "\n",
              "      let percentDone = fileData.byteLength === 0 ?\n",
              "          100 :\n",
              "          Math.round((position / fileData.byteLength) * 100);\n",
              "      percent.textContent = `${percentDone}% done`;\n",
              "\n",
              "    } while (position < fileData.byteLength);\n",
              "  }\n",
              "\n",
              "  // All done.\n",
              "  yield {\n",
              "    response: {\n",
              "      action: 'complete',\n",
              "    }\n",
              "  };\n",
              "}\n",
              "\n",
              "scope.google = scope.google || {};\n",
              "scope.google.colab = scope.google.colab || {};\n",
              "scope.google.colab._files = {\n",
              "  _uploadFiles,\n",
              "  _uploadFilesContinue,\n",
              "};\n",
              "})(self);\n",
              "</script> "
            ]
          },
          "metadata": {}
        },
        {
          "output_type": "stream",
          "name": "stdout",
          "text": [
            "Saving dengue_features_test.csv to dengue_features_test.csv\n",
            "User uploaded file \"dengue_features_test.csv\" with length 82465 bytes\n",
            "(416, 24)\n"
          ]
        },
        {
          "output_type": "execute_result",
          "data": {
            "text/plain": [
              "  city  year  weekofyear week_start_date  ndvi_ne   ndvi_nw   ndvi_se  \\\n",
              "0   sj  2008          18      2008-04-29  -0.0189 -0.018900  0.102729   \n",
              "1   sj  2008          19      2008-05-06  -0.0180 -0.012400  0.082043   \n",
              "2   sj  2008          20      2008-05-13  -0.0015       NaN  0.151083   \n",
              "3   sj  2008          21      2008-05-20      NaN -0.019867  0.124329   \n",
              "4   sj  2008          22      2008-05-27   0.0568  0.039833  0.062267   \n",
              "\n",
              "    ndvi_sw  precipitation_amt_mm  reanalysis_air_temp_k  ...  \\\n",
              "0  0.091200                 78.60             298.492857  ...   \n",
              "1  0.072314                 12.56             298.475714  ...   \n",
              "2  0.091529                  3.66             299.455714  ...   \n",
              "3  0.125686                  0.00             299.690000  ...   \n",
              "4  0.075914                  0.76             299.780000  ...   \n",
              "\n",
              "   reanalysis_precip_amt_kg_per_m2  reanalysis_relative_humidity_percent  \\\n",
              "0                            25.37                             78.781429   \n",
              "1                            21.83                             78.230000   \n",
              "2                             4.12                             78.270000   \n",
              "3                             2.20                             73.015714   \n",
              "4                             4.36                             74.084286   \n",
              "\n",
              "   reanalysis_sat_precip_amt_mm  reanalysis_specific_humidity_g_per_kg  \\\n",
              "0                         78.60                              15.918571   \n",
              "1                         12.56                              15.791429   \n",
              "2                          3.66                              16.674286   \n",
              "3                          0.00                              15.775714   \n",
              "4                          0.76                              16.137143   \n",
              "\n",
              "   reanalysis_tdtr_k  station_avg_temp_c  station_diur_temp_rng_c  \\\n",
              "0           3.128571           26.528571                 7.057143   \n",
              "1           2.571429           26.071429                 5.557143   \n",
              "2           4.428571           27.928571                 7.785714   \n",
              "3           4.342857           28.057143                 6.271429   \n",
              "4           3.542857           27.614286                 7.085714   \n",
              "\n",
              "   station_max_temp_c  station_min_temp_c  station_precip_mm  \n",
              "0                33.3                21.7               75.2  \n",
              "1                30.0                22.2               34.3  \n",
              "2                32.8                22.8                3.0  \n",
              "3                33.3                24.4                0.3  \n",
              "4                33.3                23.3               84.1  \n",
              "\n",
              "[5 rows x 24 columns]"
            ],
            "text/html": [
              "\n",
              "  <div id=\"df-14365926-52e8-4de0-ab61-f80d0b971919\">\n",
              "    <div class=\"colab-df-container\">\n",
              "      <div>\n",
              "<style scoped>\n",
              "    .dataframe tbody tr th:only-of-type {\n",
              "        vertical-align: middle;\n",
              "    }\n",
              "\n",
              "    .dataframe tbody tr th {\n",
              "        vertical-align: top;\n",
              "    }\n",
              "\n",
              "    .dataframe thead th {\n",
              "        text-align: right;\n",
              "    }\n",
              "</style>\n",
              "<table border=\"1\" class=\"dataframe\">\n",
              "  <thead>\n",
              "    <tr style=\"text-align: right;\">\n",
              "      <th></th>\n",
              "      <th>city</th>\n",
              "      <th>year</th>\n",
              "      <th>weekofyear</th>\n",
              "      <th>week_start_date</th>\n",
              "      <th>ndvi_ne</th>\n",
              "      <th>ndvi_nw</th>\n",
              "      <th>ndvi_se</th>\n",
              "      <th>ndvi_sw</th>\n",
              "      <th>precipitation_amt_mm</th>\n",
              "      <th>reanalysis_air_temp_k</th>\n",
              "      <th>...</th>\n",
              "      <th>reanalysis_precip_amt_kg_per_m2</th>\n",
              "      <th>reanalysis_relative_humidity_percent</th>\n",
              "      <th>reanalysis_sat_precip_amt_mm</th>\n",
              "      <th>reanalysis_specific_humidity_g_per_kg</th>\n",
              "      <th>reanalysis_tdtr_k</th>\n",
              "      <th>station_avg_temp_c</th>\n",
              "      <th>station_diur_temp_rng_c</th>\n",
              "      <th>station_max_temp_c</th>\n",
              "      <th>station_min_temp_c</th>\n",
              "      <th>station_precip_mm</th>\n",
              "    </tr>\n",
              "  </thead>\n",
              "  <tbody>\n",
              "    <tr>\n",
              "      <th>0</th>\n",
              "      <td>sj</td>\n",
              "      <td>2008</td>\n",
              "      <td>18</td>\n",
              "      <td>2008-04-29</td>\n",
              "      <td>-0.0189</td>\n",
              "      <td>-0.018900</td>\n",
              "      <td>0.102729</td>\n",
              "      <td>0.091200</td>\n",
              "      <td>78.60</td>\n",
              "      <td>298.492857</td>\n",
              "      <td>...</td>\n",
              "      <td>25.37</td>\n",
              "      <td>78.781429</td>\n",
              "      <td>78.60</td>\n",
              "      <td>15.918571</td>\n",
              "      <td>3.128571</td>\n",
              "      <td>26.528571</td>\n",
              "      <td>7.057143</td>\n",
              "      <td>33.3</td>\n",
              "      <td>21.7</td>\n",
              "      <td>75.2</td>\n",
              "    </tr>\n",
              "    <tr>\n",
              "      <th>1</th>\n",
              "      <td>sj</td>\n",
              "      <td>2008</td>\n",
              "      <td>19</td>\n",
              "      <td>2008-05-06</td>\n",
              "      <td>-0.0180</td>\n",
              "      <td>-0.012400</td>\n",
              "      <td>0.082043</td>\n",
              "      <td>0.072314</td>\n",
              "      <td>12.56</td>\n",
              "      <td>298.475714</td>\n",
              "      <td>...</td>\n",
              "      <td>21.83</td>\n",
              "      <td>78.230000</td>\n",
              "      <td>12.56</td>\n",
              "      <td>15.791429</td>\n",
              "      <td>2.571429</td>\n",
              "      <td>26.071429</td>\n",
              "      <td>5.557143</td>\n",
              "      <td>30.0</td>\n",
              "      <td>22.2</td>\n",
              "      <td>34.3</td>\n",
              "    </tr>\n",
              "    <tr>\n",
              "      <th>2</th>\n",
              "      <td>sj</td>\n",
              "      <td>2008</td>\n",
              "      <td>20</td>\n",
              "      <td>2008-05-13</td>\n",
              "      <td>-0.0015</td>\n",
              "      <td>NaN</td>\n",
              "      <td>0.151083</td>\n",
              "      <td>0.091529</td>\n",
              "      <td>3.66</td>\n",
              "      <td>299.455714</td>\n",
              "      <td>...</td>\n",
              "      <td>4.12</td>\n",
              "      <td>78.270000</td>\n",
              "      <td>3.66</td>\n",
              "      <td>16.674286</td>\n",
              "      <td>4.428571</td>\n",
              "      <td>27.928571</td>\n",
              "      <td>7.785714</td>\n",
              "      <td>32.8</td>\n",
              "      <td>22.8</td>\n",
              "      <td>3.0</td>\n",
              "    </tr>\n",
              "    <tr>\n",
              "      <th>3</th>\n",
              "      <td>sj</td>\n",
              "      <td>2008</td>\n",
              "      <td>21</td>\n",
              "      <td>2008-05-20</td>\n",
              "      <td>NaN</td>\n",
              "      <td>-0.019867</td>\n",
              "      <td>0.124329</td>\n",
              "      <td>0.125686</td>\n",
              "      <td>0.00</td>\n",
              "      <td>299.690000</td>\n",
              "      <td>...</td>\n",
              "      <td>2.20</td>\n",
              "      <td>73.015714</td>\n",
              "      <td>0.00</td>\n",
              "      <td>15.775714</td>\n",
              "      <td>4.342857</td>\n",
              "      <td>28.057143</td>\n",
              "      <td>6.271429</td>\n",
              "      <td>33.3</td>\n",
              "      <td>24.4</td>\n",
              "      <td>0.3</td>\n",
              "    </tr>\n",
              "    <tr>\n",
              "      <th>4</th>\n",
              "      <td>sj</td>\n",
              "      <td>2008</td>\n",
              "      <td>22</td>\n",
              "      <td>2008-05-27</td>\n",
              "      <td>0.0568</td>\n",
              "      <td>0.039833</td>\n",
              "      <td>0.062267</td>\n",
              "      <td>0.075914</td>\n",
              "      <td>0.76</td>\n",
              "      <td>299.780000</td>\n",
              "      <td>...</td>\n",
              "      <td>4.36</td>\n",
              "      <td>74.084286</td>\n",
              "      <td>0.76</td>\n",
              "      <td>16.137143</td>\n",
              "      <td>3.542857</td>\n",
              "      <td>27.614286</td>\n",
              "      <td>7.085714</td>\n",
              "      <td>33.3</td>\n",
              "      <td>23.3</td>\n",
              "      <td>84.1</td>\n",
              "    </tr>\n",
              "  </tbody>\n",
              "</table>\n",
              "<p>5 rows × 24 columns</p>\n",
              "</div>\n",
              "      <button class=\"colab-df-convert\" onclick=\"convertToInteractive('df-14365926-52e8-4de0-ab61-f80d0b971919')\"\n",
              "              title=\"Convert this dataframe to an interactive table.\"\n",
              "              style=\"display:none;\">\n",
              "        \n",
              "  <svg xmlns=\"http://www.w3.org/2000/svg\" height=\"24px\"viewBox=\"0 0 24 24\"\n",
              "       width=\"24px\">\n",
              "    <path d=\"M0 0h24v24H0V0z\" fill=\"none\"/>\n",
              "    <path d=\"M18.56 5.44l.94 2.06.94-2.06 2.06-.94-2.06-.94-.94-2.06-.94 2.06-2.06.94zm-11 1L8.5 8.5l.94-2.06 2.06-.94-2.06-.94L8.5 2.5l-.94 2.06-2.06.94zm10 10l.94 2.06.94-2.06 2.06-.94-2.06-.94-.94-2.06-.94 2.06-2.06.94z\"/><path d=\"M17.41 7.96l-1.37-1.37c-.4-.4-.92-.59-1.43-.59-.52 0-1.04.2-1.43.59L10.3 9.45l-7.72 7.72c-.78.78-.78 2.05 0 2.83L4 21.41c.39.39.9.59 1.41.59.51 0 1.02-.2 1.41-.59l7.78-7.78 2.81-2.81c.8-.78.8-2.07 0-2.86zM5.41 20L4 18.59l7.72-7.72 1.47 1.35L5.41 20z\"/>\n",
              "  </svg>\n",
              "      </button>\n",
              "      \n",
              "  <style>\n",
              "    .colab-df-container {\n",
              "      display:flex;\n",
              "      flex-wrap:wrap;\n",
              "      gap: 12px;\n",
              "    }\n",
              "\n",
              "    .colab-df-convert {\n",
              "      background-color: #E8F0FE;\n",
              "      border: none;\n",
              "      border-radius: 50%;\n",
              "      cursor: pointer;\n",
              "      display: none;\n",
              "      fill: #1967D2;\n",
              "      height: 32px;\n",
              "      padding: 0 0 0 0;\n",
              "      width: 32px;\n",
              "    }\n",
              "\n",
              "    .colab-df-convert:hover {\n",
              "      background-color: #E2EBFA;\n",
              "      box-shadow: 0px 1px 2px rgba(60, 64, 67, 0.3), 0px 1px 3px 1px rgba(60, 64, 67, 0.15);\n",
              "      fill: #174EA6;\n",
              "    }\n",
              "\n",
              "    [theme=dark] .colab-df-convert {\n",
              "      background-color: #3B4455;\n",
              "      fill: #D2E3FC;\n",
              "    }\n",
              "\n",
              "    [theme=dark] .colab-df-convert:hover {\n",
              "      background-color: #434B5C;\n",
              "      box-shadow: 0px 1px 3px 1px rgba(0, 0, 0, 0.15);\n",
              "      filter: drop-shadow(0px 1px 2px rgba(0, 0, 0, 0.3));\n",
              "      fill: #FFFFFF;\n",
              "    }\n",
              "  </style>\n",
              "\n",
              "      <script>\n",
              "        const buttonEl =\n",
              "          document.querySelector('#df-14365926-52e8-4de0-ab61-f80d0b971919 button.colab-df-convert');\n",
              "        buttonEl.style.display =\n",
              "          google.colab.kernel.accessAllowed ? 'block' : 'none';\n",
              "\n",
              "        async function convertToInteractive(key) {\n",
              "          const element = document.querySelector('#df-14365926-52e8-4de0-ab61-f80d0b971919');\n",
              "          const dataTable =\n",
              "            await google.colab.kernel.invokeFunction('convertToInteractive',\n",
              "                                                     [key], {});\n",
              "          if (!dataTable) return;\n",
              "\n",
              "          const docLinkHtml = 'Like what you see? Visit the ' +\n",
              "            '<a target=\"_blank\" href=https://colab.research.google.com/notebooks/data_table.ipynb>data table notebook</a>'\n",
              "            + ' to learn more about interactive tables.';\n",
              "          element.innerHTML = '';\n",
              "          dataTable['output_type'] = 'display_data';\n",
              "          await google.colab.output.renderOutput(dataTable, element);\n",
              "          const docLink = document.createElement('div');\n",
              "          docLink.innerHTML = docLinkHtml;\n",
              "          element.appendChild(docLink);\n",
              "        }\n",
              "      </script>\n",
              "    </div>\n",
              "  </div>\n",
              "  "
            ]
          },
          "metadata": {},
          "execution_count": 4
        }
      ]
    },
    {
      "cell_type": "markdown",
      "metadata": {
        "id": "dZSaoCMRAq8m"
      },
      "source": [
        "---\n",
        "# **Preprocesado**\n",
        "---"
      ]
    },
    {
      "cell_type": "code",
      "metadata": {
        "id": "bSwX3YqgsuYn"
      },
      "source": [
        "# Eliminar variable week_start_date por ser de tipo cadena de texto sin formato\n",
        "train.drop(\"week_start_date\", axis = 1, inplace = True)\n",
        "test.drop(\"week_start_date\", axis = 1, inplace = True)"
      ],
      "execution_count": 5,
      "outputs": []
    },
    {
      "cell_type": "markdown",
      "metadata": {
        "id": "fP6gN2KUtu_l"
      },
      "source": [
        "## Valores Perdidos \"train\""
      ]
    },
    {
      "cell_type": "code",
      "metadata": {
        "id": "XYMuvLK6t-a8",
        "colab": {
          "base_uri": "https://localhost:8080/"
        },
        "outputId": "52edf413-0cc4-41bf-914f-06e9ee1ef622"
      },
      "source": [
        "# Contar valores perdidos\n",
        "pd.isnull(train).sum()"
      ],
      "execution_count": 6,
      "outputs": [
        {
          "output_type": "execute_result",
          "data": {
            "text/plain": [
              "city                                       0\n",
              "year                                       0\n",
              "weekofyear                                 0\n",
              "ndvi_ne                                  194\n",
              "ndvi_nw                                   52\n",
              "ndvi_se                                   22\n",
              "ndvi_sw                                   22\n",
              "precipitation_amt_mm                      13\n",
              "reanalysis_air_temp_k                     10\n",
              "reanalysis_avg_temp_k                     10\n",
              "reanalysis_dew_point_temp_k               10\n",
              "reanalysis_max_air_temp_k                 10\n",
              "reanalysis_min_air_temp_k                 10\n",
              "reanalysis_precip_amt_kg_per_m2           10\n",
              "reanalysis_relative_humidity_percent      10\n",
              "reanalysis_sat_precip_amt_mm              13\n",
              "reanalysis_specific_humidity_g_per_kg     10\n",
              "reanalysis_tdtr_k                         10\n",
              "station_avg_temp_c                        43\n",
              "station_diur_temp_rng_c                   43\n",
              "station_max_temp_c                        20\n",
              "station_min_temp_c                        14\n",
              "station_precip_mm                         22\n",
              "total_cases                                0\n",
              "dtype: int64"
            ]
          },
          "metadata": {},
          "execution_count": 6
        }
      ]
    },
    {
      "cell_type": "code",
      "source": [
        "# Calcular la mediana de todas las columnas\n",
        "mediana = train.select_dtypes(include='number').median()"
      ],
      "metadata": {
        "id": "_8Wwm_M4HYa-"
      },
      "execution_count": 7,
      "outputs": []
    },
    {
      "cell_type": "code",
      "source": [
        "# Imputar los valores faltantes con la mediana\n",
        "train= train.fillna(mediana)"
      ],
      "metadata": {
        "id": "ogEHra8aHYTX"
      },
      "execution_count": 8,
      "outputs": []
    },
    {
      "cell_type": "code",
      "source": [
        "# Verificar la calidad de la imputación solo para las variables numéricas\n",
        "numeric_cols = train.select_dtypes(include='number').columns.tolist()\n",
        "mse = ((train[numeric_cols] - train[numeric_cols].fillna(mediana)) ** 2).mean(axis=0)\n",
        "print('MSE:', mse)"
      ],
      "metadata": {
        "colab": {
          "base_uri": "https://localhost:8080/"
        },
        "id": "jFNXkdPxHYQP",
        "outputId": "557c966a-7d5f-479f-afe9-39ff15959cb5"
      },
      "execution_count": 9,
      "outputs": [
        {
          "output_type": "stream",
          "name": "stdout",
          "text": [
            "MSE: year                                     0.0\n",
            "weekofyear                               0.0\n",
            "ndvi_ne                                  0.0\n",
            "ndvi_nw                                  0.0\n",
            "ndvi_se                                  0.0\n",
            "ndvi_sw                                  0.0\n",
            "precipitation_amt_mm                     0.0\n",
            "reanalysis_air_temp_k                    0.0\n",
            "reanalysis_avg_temp_k                    0.0\n",
            "reanalysis_dew_point_temp_k              0.0\n",
            "reanalysis_max_air_temp_k                0.0\n",
            "reanalysis_min_air_temp_k                0.0\n",
            "reanalysis_precip_amt_kg_per_m2          0.0\n",
            "reanalysis_relative_humidity_percent     0.0\n",
            "reanalysis_sat_precip_amt_mm             0.0\n",
            "reanalysis_specific_humidity_g_per_kg    0.0\n",
            "reanalysis_tdtr_k                        0.0\n",
            "station_avg_temp_c                       0.0\n",
            "station_diur_temp_rng_c                  0.0\n",
            "station_max_temp_c                       0.0\n",
            "station_min_temp_c                       0.0\n",
            "station_precip_mm                        0.0\n",
            "total_cases                              0.0\n",
            "dtype: float64\n"
          ]
        }
      ]
    },
    {
      "cell_type": "code",
      "source": [
        "# Se vuelve a verificar la cantidad de valores perdidos\n",
        "train.isnull().sum()"
      ],
      "metadata": {
        "colab": {
          "base_uri": "https://localhost:8080/"
        },
        "id": "I5yM21PPHYNP",
        "outputId": "ac4ecb39-994a-46e1-a991-e04b71205e9f"
      },
      "execution_count": 10,
      "outputs": [
        {
          "output_type": "execute_result",
          "data": {
            "text/plain": [
              "city                                     0\n",
              "year                                     0\n",
              "weekofyear                               0\n",
              "ndvi_ne                                  0\n",
              "ndvi_nw                                  0\n",
              "ndvi_se                                  0\n",
              "ndvi_sw                                  0\n",
              "precipitation_amt_mm                     0\n",
              "reanalysis_air_temp_k                    0\n",
              "reanalysis_avg_temp_k                    0\n",
              "reanalysis_dew_point_temp_k              0\n",
              "reanalysis_max_air_temp_k                0\n",
              "reanalysis_min_air_temp_k                0\n",
              "reanalysis_precip_amt_kg_per_m2          0\n",
              "reanalysis_relative_humidity_percent     0\n",
              "reanalysis_sat_precip_amt_mm             0\n",
              "reanalysis_specific_humidity_g_per_kg    0\n",
              "reanalysis_tdtr_k                        0\n",
              "station_avg_temp_c                       0\n",
              "station_diur_temp_rng_c                  0\n",
              "station_max_temp_c                       0\n",
              "station_min_temp_c                       0\n",
              "station_precip_mm                        0\n",
              "total_cases                              0\n",
              "dtype: int64"
            ]
          },
          "metadata": {},
          "execution_count": 10
        }
      ]
    },
    {
      "cell_type": "markdown",
      "source": [
        "## **Valores Perdidos \"test\"**"
      ],
      "metadata": {
        "id": "czaHpmVyOY9e"
      }
    },
    {
      "cell_type": "code",
      "source": [
        "# Contar valores perdidos\n",
        "pd.isnull(test).sum()"
      ],
      "metadata": {
        "colab": {
          "base_uri": "https://localhost:8080/"
        },
        "id": "Af-fnOy6HYJn",
        "outputId": "b90eb52a-5254-4b73-c216-114494754d57"
      },
      "execution_count": 11,
      "outputs": [
        {
          "output_type": "execute_result",
          "data": {
            "text/plain": [
              "city                                      0\n",
              "year                                      0\n",
              "weekofyear                                0\n",
              "ndvi_ne                                  43\n",
              "ndvi_nw                                  11\n",
              "ndvi_se                                   1\n",
              "ndvi_sw                                   1\n",
              "precipitation_amt_mm                      2\n",
              "reanalysis_air_temp_k                     2\n",
              "reanalysis_avg_temp_k                     2\n",
              "reanalysis_dew_point_temp_k               2\n",
              "reanalysis_max_air_temp_k                 2\n",
              "reanalysis_min_air_temp_k                 2\n",
              "reanalysis_precip_amt_kg_per_m2           2\n",
              "reanalysis_relative_humidity_percent      2\n",
              "reanalysis_sat_precip_amt_mm              2\n",
              "reanalysis_specific_humidity_g_per_kg     2\n",
              "reanalysis_tdtr_k                         2\n",
              "station_avg_temp_c                       12\n",
              "station_diur_temp_rng_c                  12\n",
              "station_max_temp_c                        3\n",
              "station_min_temp_c                        9\n",
              "station_precip_mm                         5\n",
              "dtype: int64"
            ]
          },
          "metadata": {},
          "execution_count": 11
        }
      ]
    },
    {
      "cell_type": "code",
      "source": [
        "# Calcular la mediana de todas las columnas\n",
        "mediana = test.select_dtypes(include='number').median()"
      ],
      "metadata": {
        "id": "vlpOEobZOmiV"
      },
      "execution_count": 12,
      "outputs": []
    },
    {
      "cell_type": "code",
      "source": [
        "# Imputar los valores faltantes con la mediana\n",
        "test= test.fillna(mediana)"
      ],
      "metadata": {
        "id": "c1hWMWazOma0"
      },
      "execution_count": 13,
      "outputs": []
    },
    {
      "cell_type": "code",
      "source": [
        "# Verificar la calidad de la imputación solo para las variables numéricas\n",
        "numeric_cols = test.select_dtypes(include='number').columns.tolist()\n",
        "mse = ((test[numeric_cols] - test[numeric_cols].fillna(mediana)) ** 2).mean(axis=0)\n",
        "print('MSE:', mse)"
      ],
      "metadata": {
        "colab": {
          "base_uri": "https://localhost:8080/"
        },
        "id": "eQLA_3TqOmX0",
        "outputId": "3cd750d0-fc20-4346-9a64-f3e0223f37e9"
      },
      "execution_count": 14,
      "outputs": [
        {
          "output_type": "stream",
          "name": "stdout",
          "text": [
            "MSE: year                                     0.0\n",
            "weekofyear                               0.0\n",
            "ndvi_ne                                  0.0\n",
            "ndvi_nw                                  0.0\n",
            "ndvi_se                                  0.0\n",
            "ndvi_sw                                  0.0\n",
            "precipitation_amt_mm                     0.0\n",
            "reanalysis_air_temp_k                    0.0\n",
            "reanalysis_avg_temp_k                    0.0\n",
            "reanalysis_dew_point_temp_k              0.0\n",
            "reanalysis_max_air_temp_k                0.0\n",
            "reanalysis_min_air_temp_k                0.0\n",
            "reanalysis_precip_amt_kg_per_m2          0.0\n",
            "reanalysis_relative_humidity_percent     0.0\n",
            "reanalysis_sat_precip_amt_mm             0.0\n",
            "reanalysis_specific_humidity_g_per_kg    0.0\n",
            "reanalysis_tdtr_k                        0.0\n",
            "station_avg_temp_c                       0.0\n",
            "station_diur_temp_rng_c                  0.0\n",
            "station_max_temp_c                       0.0\n",
            "station_min_temp_c                       0.0\n",
            "station_precip_mm                        0.0\n",
            "dtype: float64\n"
          ]
        }
      ]
    },
    {
      "cell_type": "code",
      "source": [
        "# Se vuelve a verificar la cantidad de valores perdidos\n",
        "test.isnull().sum()"
      ],
      "metadata": {
        "colab": {
          "base_uri": "https://localhost:8080/"
        },
        "id": "UqDNBdypOmU9",
        "outputId": "101ff178-94af-4987-bc9c-d89438b1769f"
      },
      "execution_count": 15,
      "outputs": [
        {
          "output_type": "execute_result",
          "data": {
            "text/plain": [
              "city                                     0\n",
              "year                                     0\n",
              "weekofyear                               0\n",
              "ndvi_ne                                  0\n",
              "ndvi_nw                                  0\n",
              "ndvi_se                                  0\n",
              "ndvi_sw                                  0\n",
              "precipitation_amt_mm                     0\n",
              "reanalysis_air_temp_k                    0\n",
              "reanalysis_avg_temp_k                    0\n",
              "reanalysis_dew_point_temp_k              0\n",
              "reanalysis_max_air_temp_k                0\n",
              "reanalysis_min_air_temp_k                0\n",
              "reanalysis_precip_amt_kg_per_m2          0\n",
              "reanalysis_relative_humidity_percent     0\n",
              "reanalysis_sat_precip_amt_mm             0\n",
              "reanalysis_specific_humidity_g_per_kg    0\n",
              "reanalysis_tdtr_k                        0\n",
              "station_avg_temp_c                       0\n",
              "station_diur_temp_rng_c                  0\n",
              "station_max_temp_c                       0\n",
              "station_min_temp_c                       0\n",
              "station_precip_mm                        0\n",
              "dtype: int64"
            ]
          },
          "metadata": {},
          "execution_count": 15
        }
      ]
    },
    {
      "cell_type": "markdown",
      "source": [
        "**Explicación:**\n",
        "\n",
        "Se eligió la imputación por mediana porque la cantidad de datos faltantes es bajo con respecto al total de datos, además de, preserva la distribución de los datos, es robusta a valores extremos y es de fácil implementación.\n",
        "Utilizamos el método select_dtypes() de Pandas para seleccionar solo las columnas numéricas en el conjunto de datos. Luego, utilizamos la función median() de Pandas para calcular la mediana de todas las columnas numéricas.\n",
        "\n",
        "Después de calcular la mediana, utilizamos la función fillna() de Pandas para reemplazar todos los valores faltantes en las columnas numéricas del conjunto de datos con la mediana correspondiente.\n",
        "\n",
        "Finalmente, verificamos la calidad de la imputación calculando el error cuadrático medio entre los datos originales y los datos imputados solo para las variables numéricas. Esto nos ayuda a evaluar la calidad de la imputación y a determinar si es necesario utilizar técnicas más avanzadas de imputación o limpieza de datos. En este caso, todas las variables numéricas tienen un MSE de cero, lo que sugiere que la imputación por mediana fue exitosa y no hubo diferencias significativas entre los valores imputados y los valores originales para estas variables."
      ],
      "metadata": {
        "id": "hjpQBzVt8JMg"
      }
    },
    {
      "cell_type": "markdown",
      "metadata": {
        "id": "IozQiBs5usV_"
      },
      "source": [
        "## **Transformación de Variables**"
      ]
    },
    {
      "cell_type": "code",
      "metadata": {
        "id": "mqTSZEOiupaH",
        "colab": {
          "base_uri": "https://localhost:8080/",
          "height": 300
        },
        "outputId": "27e2c4f6-ab8f-42ac-db63-b8f7ae137f0b"
      },
      "source": [
        "# Binarizador para la variable categórica city en el conjunto de entrenamiento y test\n",
        "from sklearn import preprocessing\n",
        "lb = preprocessing.LabelBinarizer()\n",
        "train['city_bin'] = lb.fit_transform(train['city'])\n",
        "test['city_bin'] = lb.fit_transform(test['city'])\n",
        "\n",
        "train.tail()"
      ],
      "execution_count": 16,
      "outputs": [
        {
          "output_type": "execute_result",
          "data": {
            "text/plain": [
              "     city  year  weekofyear   ndvi_ne   ndvi_nw   ndvi_se   ndvi_sw  \\\n",
              "1451   iq  2010          21  0.342750  0.318900  0.256343  0.292514   \n",
              "1452   iq  2010          22  0.160157  0.160371  0.136043  0.225657   \n",
              "1453   iq  2010          23  0.247057  0.146057  0.250357  0.233714   \n",
              "1454   iq  2010          24  0.333914  0.245771  0.278886  0.325486   \n",
              "1455   iq  2010          25  0.298186  0.232971  0.274214  0.315757   \n",
              "\n",
              "      precipitation_amt_mm  reanalysis_air_temp_k  reanalysis_avg_temp_k  ...  \\\n",
              "1451                 55.30             299.334286             300.771429  ...   \n",
              "1452                 86.47             298.330000             299.392857  ...   \n",
              "1453                 58.94             296.598571             297.592857  ...   \n",
              "1454                 59.67             296.345714             297.521429  ...   \n",
              "1455                 63.22             298.097143             299.835714  ...   \n",
              "\n",
              "      reanalysis_sat_precip_amt_mm  reanalysis_specific_humidity_g_per_kg  \\\n",
              "1451                         55.30                              18.485714   \n",
              "1452                         86.47                              18.070000   \n",
              "1453                         58.94                              17.008571   \n",
              "1454                         59.67                              16.815714   \n",
              "1455                         63.22                              17.355714   \n",
              "\n",
              "      reanalysis_tdtr_k  station_avg_temp_c  station_diur_temp_rng_c  \\\n",
              "1451           9.800000           28.633333                11.933333   \n",
              "1452           7.471429           27.433333                10.500000   \n",
              "1453           7.500000           24.400000                 6.900000   \n",
              "1454           7.871429           25.433333                 8.733333   \n",
              "1455          11.014286           27.475000                 9.900000   \n",
              "\n",
              "      station_max_temp_c  station_min_temp_c  station_precip_mm  total_cases  \\\n",
              "1451                35.4                22.4               27.0            5   \n",
              "1452                34.7                21.7               36.6            8   \n",
              "1453                32.2                19.2                7.4            1   \n",
              "1454                31.2                21.0               16.0            1   \n",
              "1455                33.7                22.2               20.4            4   \n",
              "\n",
              "      city_bin  \n",
              "1451         0  \n",
              "1452         0  \n",
              "1453         0  \n",
              "1454         0  \n",
              "1455         0  \n",
              "\n",
              "[5 rows x 25 columns]"
            ],
            "text/html": [
              "\n",
              "  <div id=\"df-08727e1b-dd51-4016-b226-c6713bc7a3ed\">\n",
              "    <div class=\"colab-df-container\">\n",
              "      <div>\n",
              "<style scoped>\n",
              "    .dataframe tbody tr th:only-of-type {\n",
              "        vertical-align: middle;\n",
              "    }\n",
              "\n",
              "    .dataframe tbody tr th {\n",
              "        vertical-align: top;\n",
              "    }\n",
              "\n",
              "    .dataframe thead th {\n",
              "        text-align: right;\n",
              "    }\n",
              "</style>\n",
              "<table border=\"1\" class=\"dataframe\">\n",
              "  <thead>\n",
              "    <tr style=\"text-align: right;\">\n",
              "      <th></th>\n",
              "      <th>city</th>\n",
              "      <th>year</th>\n",
              "      <th>weekofyear</th>\n",
              "      <th>ndvi_ne</th>\n",
              "      <th>ndvi_nw</th>\n",
              "      <th>ndvi_se</th>\n",
              "      <th>ndvi_sw</th>\n",
              "      <th>precipitation_amt_mm</th>\n",
              "      <th>reanalysis_air_temp_k</th>\n",
              "      <th>reanalysis_avg_temp_k</th>\n",
              "      <th>...</th>\n",
              "      <th>reanalysis_sat_precip_amt_mm</th>\n",
              "      <th>reanalysis_specific_humidity_g_per_kg</th>\n",
              "      <th>reanalysis_tdtr_k</th>\n",
              "      <th>station_avg_temp_c</th>\n",
              "      <th>station_diur_temp_rng_c</th>\n",
              "      <th>station_max_temp_c</th>\n",
              "      <th>station_min_temp_c</th>\n",
              "      <th>station_precip_mm</th>\n",
              "      <th>total_cases</th>\n",
              "      <th>city_bin</th>\n",
              "    </tr>\n",
              "  </thead>\n",
              "  <tbody>\n",
              "    <tr>\n",
              "      <th>1451</th>\n",
              "      <td>iq</td>\n",
              "      <td>2010</td>\n",
              "      <td>21</td>\n",
              "      <td>0.342750</td>\n",
              "      <td>0.318900</td>\n",
              "      <td>0.256343</td>\n",
              "      <td>0.292514</td>\n",
              "      <td>55.30</td>\n",
              "      <td>299.334286</td>\n",
              "      <td>300.771429</td>\n",
              "      <td>...</td>\n",
              "      <td>55.30</td>\n",
              "      <td>18.485714</td>\n",
              "      <td>9.800000</td>\n",
              "      <td>28.633333</td>\n",
              "      <td>11.933333</td>\n",
              "      <td>35.4</td>\n",
              "      <td>22.4</td>\n",
              "      <td>27.0</td>\n",
              "      <td>5</td>\n",
              "      <td>0</td>\n",
              "    </tr>\n",
              "    <tr>\n",
              "      <th>1452</th>\n",
              "      <td>iq</td>\n",
              "      <td>2010</td>\n",
              "      <td>22</td>\n",
              "      <td>0.160157</td>\n",
              "      <td>0.160371</td>\n",
              "      <td>0.136043</td>\n",
              "      <td>0.225657</td>\n",
              "      <td>86.47</td>\n",
              "      <td>298.330000</td>\n",
              "      <td>299.392857</td>\n",
              "      <td>...</td>\n",
              "      <td>86.47</td>\n",
              "      <td>18.070000</td>\n",
              "      <td>7.471429</td>\n",
              "      <td>27.433333</td>\n",
              "      <td>10.500000</td>\n",
              "      <td>34.7</td>\n",
              "      <td>21.7</td>\n",
              "      <td>36.6</td>\n",
              "      <td>8</td>\n",
              "      <td>0</td>\n",
              "    </tr>\n",
              "    <tr>\n",
              "      <th>1453</th>\n",
              "      <td>iq</td>\n",
              "      <td>2010</td>\n",
              "      <td>23</td>\n",
              "      <td>0.247057</td>\n",
              "      <td>0.146057</td>\n",
              "      <td>0.250357</td>\n",
              "      <td>0.233714</td>\n",
              "      <td>58.94</td>\n",
              "      <td>296.598571</td>\n",
              "      <td>297.592857</td>\n",
              "      <td>...</td>\n",
              "      <td>58.94</td>\n",
              "      <td>17.008571</td>\n",
              "      <td>7.500000</td>\n",
              "      <td>24.400000</td>\n",
              "      <td>6.900000</td>\n",
              "      <td>32.2</td>\n",
              "      <td>19.2</td>\n",
              "      <td>7.4</td>\n",
              "      <td>1</td>\n",
              "      <td>0</td>\n",
              "    </tr>\n",
              "    <tr>\n",
              "      <th>1454</th>\n",
              "      <td>iq</td>\n",
              "      <td>2010</td>\n",
              "      <td>24</td>\n",
              "      <td>0.333914</td>\n",
              "      <td>0.245771</td>\n",
              "      <td>0.278886</td>\n",
              "      <td>0.325486</td>\n",
              "      <td>59.67</td>\n",
              "      <td>296.345714</td>\n",
              "      <td>297.521429</td>\n",
              "      <td>...</td>\n",
              "      <td>59.67</td>\n",
              "      <td>16.815714</td>\n",
              "      <td>7.871429</td>\n",
              "      <td>25.433333</td>\n",
              "      <td>8.733333</td>\n",
              "      <td>31.2</td>\n",
              "      <td>21.0</td>\n",
              "      <td>16.0</td>\n",
              "      <td>1</td>\n",
              "      <td>0</td>\n",
              "    </tr>\n",
              "    <tr>\n",
              "      <th>1455</th>\n",
              "      <td>iq</td>\n",
              "      <td>2010</td>\n",
              "      <td>25</td>\n",
              "      <td>0.298186</td>\n",
              "      <td>0.232971</td>\n",
              "      <td>0.274214</td>\n",
              "      <td>0.315757</td>\n",
              "      <td>63.22</td>\n",
              "      <td>298.097143</td>\n",
              "      <td>299.835714</td>\n",
              "      <td>...</td>\n",
              "      <td>63.22</td>\n",
              "      <td>17.355714</td>\n",
              "      <td>11.014286</td>\n",
              "      <td>27.475000</td>\n",
              "      <td>9.900000</td>\n",
              "      <td>33.7</td>\n",
              "      <td>22.2</td>\n",
              "      <td>20.4</td>\n",
              "      <td>4</td>\n",
              "      <td>0</td>\n",
              "    </tr>\n",
              "  </tbody>\n",
              "</table>\n",
              "<p>5 rows × 25 columns</p>\n",
              "</div>\n",
              "      <button class=\"colab-df-convert\" onclick=\"convertToInteractive('df-08727e1b-dd51-4016-b226-c6713bc7a3ed')\"\n",
              "              title=\"Convert this dataframe to an interactive table.\"\n",
              "              style=\"display:none;\">\n",
              "        \n",
              "  <svg xmlns=\"http://www.w3.org/2000/svg\" height=\"24px\"viewBox=\"0 0 24 24\"\n",
              "       width=\"24px\">\n",
              "    <path d=\"M0 0h24v24H0V0z\" fill=\"none\"/>\n",
              "    <path d=\"M18.56 5.44l.94 2.06.94-2.06 2.06-.94-2.06-.94-.94-2.06-.94 2.06-2.06.94zm-11 1L8.5 8.5l.94-2.06 2.06-.94-2.06-.94L8.5 2.5l-.94 2.06-2.06.94zm10 10l.94 2.06.94-2.06 2.06-.94-2.06-.94-.94-2.06-.94 2.06-2.06.94z\"/><path d=\"M17.41 7.96l-1.37-1.37c-.4-.4-.92-.59-1.43-.59-.52 0-1.04.2-1.43.59L10.3 9.45l-7.72 7.72c-.78.78-.78 2.05 0 2.83L4 21.41c.39.39.9.59 1.41.59.51 0 1.02-.2 1.41-.59l7.78-7.78 2.81-2.81c.8-.78.8-2.07 0-2.86zM5.41 20L4 18.59l7.72-7.72 1.47 1.35L5.41 20z\"/>\n",
              "  </svg>\n",
              "      </button>\n",
              "      \n",
              "  <style>\n",
              "    .colab-df-container {\n",
              "      display:flex;\n",
              "      flex-wrap:wrap;\n",
              "      gap: 12px;\n",
              "    }\n",
              "\n",
              "    .colab-df-convert {\n",
              "      background-color: #E8F0FE;\n",
              "      border: none;\n",
              "      border-radius: 50%;\n",
              "      cursor: pointer;\n",
              "      display: none;\n",
              "      fill: #1967D2;\n",
              "      height: 32px;\n",
              "      padding: 0 0 0 0;\n",
              "      width: 32px;\n",
              "    }\n",
              "\n",
              "    .colab-df-convert:hover {\n",
              "      background-color: #E2EBFA;\n",
              "      box-shadow: 0px 1px 2px rgba(60, 64, 67, 0.3), 0px 1px 3px 1px rgba(60, 64, 67, 0.15);\n",
              "      fill: #174EA6;\n",
              "    }\n",
              "\n",
              "    [theme=dark] .colab-df-convert {\n",
              "      background-color: #3B4455;\n",
              "      fill: #D2E3FC;\n",
              "    }\n",
              "\n",
              "    [theme=dark] .colab-df-convert:hover {\n",
              "      background-color: #434B5C;\n",
              "      box-shadow: 0px 1px 3px 1px rgba(0, 0, 0, 0.15);\n",
              "      filter: drop-shadow(0px 1px 2px rgba(0, 0, 0, 0.3));\n",
              "      fill: #FFFFFF;\n",
              "    }\n",
              "  </style>\n",
              "\n",
              "      <script>\n",
              "        const buttonEl =\n",
              "          document.querySelector('#df-08727e1b-dd51-4016-b226-c6713bc7a3ed button.colab-df-convert');\n",
              "        buttonEl.style.display =\n",
              "          google.colab.kernel.accessAllowed ? 'block' : 'none';\n",
              "\n",
              "        async function convertToInteractive(key) {\n",
              "          const element = document.querySelector('#df-08727e1b-dd51-4016-b226-c6713bc7a3ed');\n",
              "          const dataTable =\n",
              "            await google.colab.kernel.invokeFunction('convertToInteractive',\n",
              "                                                     [key], {});\n",
              "          if (!dataTable) return;\n",
              "\n",
              "          const docLinkHtml = 'Like what you see? Visit the ' +\n",
              "            '<a target=\"_blank\" href=https://colab.research.google.com/notebooks/data_table.ipynb>data table notebook</a>'\n",
              "            + ' to learn more about interactive tables.';\n",
              "          element.innerHTML = '';\n",
              "          dataTable['output_type'] = 'display_data';\n",
              "          await google.colab.output.renderOutput(dataTable, element);\n",
              "          const docLink = document.createElement('div');\n",
              "          docLink.innerHTML = docLinkHtml;\n",
              "          element.appendChild(docLink);\n",
              "        }\n",
              "      </script>\n",
              "    </div>\n",
              "  </div>\n",
              "  "
            ]
          },
          "metadata": {},
          "execution_count": 16
        }
      ]
    },
    {
      "cell_type": "markdown",
      "source": [
        "---\n",
        "# Características\n",
        "---"
      ],
      "metadata": {
        "id": "XeleKQdFnZzN"
      }
    },
    {
      "cell_type": "code",
      "source": [
        "# Conjunto de características seleccionadas:\n",
        "selected_features = ['reanalysis_relative_humidity_percent', 'reanalysis_avg_temp_k', 'reanalysis_air_temp_k', 'reanalysis_dew_point_temp_k', 'reanalysis_precip_amt_kg_per_m2', 'year', 'weekofyear']"
      ],
      "metadata": {
        "id": "rJBN40uTz7QM"
      },
      "execution_count": 17,
      "outputs": []
    },
    {
      "cell_type": "code",
      "metadata": {
        "id": "shQ7RDGT8JMv",
        "colab": {
          "base_uri": "https://localhost:8080/"
        },
        "outputId": "a8f574c9-a737-4920-a754-0bbe6c6fb947"
      },
      "source": [
        "# Normalización con MinMaxScaler\n",
        "from sklearn.preprocessing import MinMaxScaler\n",
        "scaler = MinMaxScaler()\n",
        "X_train = scaler.fit_transform(train[selected_features])\n",
        "X_test = scaler.transform(test[selected_features])\n",
        "y_train = train['total_cases']\n",
        "X_test"
      ],
      "execution_count": 18,
      "outputs": [
        {
          "output_type": "execute_result",
          "data": {
            "text/plain": [
              "array([[0.51427772, 0.45511111, 0.50991501, ..., 0.04446976, 0.9       ,\n",
              "        0.32692308],\n",
              "       [0.50076988, 0.456     , 0.50764873, ..., 0.03826468, 0.9       ,\n",
              "        0.34615385],\n",
              "       [0.50174972, 0.55555556, 0.63720491, ..., 0.00722174, 0.9       ,\n",
              "        0.36538462],\n",
              "       ...,\n",
              "       [0.91076428, 0.21333333, 0.15807365, ..., 0.0792638 , 1.15      ,\n",
              "        0.44230769],\n",
              "       [0.76599244, 0.312     , 0.15108593, ..., 0.00823839, 1.15      ,\n",
              "        0.46153846],\n",
              "       [0.71633539, 0.51111111, 0.3618508 , ..., 0.04872918, 1.15      ,\n",
              "        0.48076923]])"
            ]
          },
          "metadata": {},
          "execution_count": 18
        }
      ]
    },
    {
      "cell_type": "markdown",
      "metadata": {
        "id": "DHn4PMedwQwi"
      },
      "source": [
        "---\n",
        "# Predicción\n",
        "---"
      ]
    },
    {
      "cell_type": "markdown",
      "source": [
        "## **Regresión Lineal**"
      ],
      "metadata": {
        "id": "U8XQ6xm1QGjH"
      }
    },
    {
      "cell_type": "code",
      "source": [
        "# Importar librerías necesarias\n",
        "from sklearn.linear_model import LinearRegression\n",
        "from sklearn.metrics import mean_absolute_error\n",
        "from sklearn.model_selection import train_test_split"
      ],
      "metadata": {
        "id": "CreW_v7tQAO9"
      },
      "execution_count": 19,
      "outputs": []
    },
    {
      "cell_type": "code",
      "source": [
        "# Seleccionar las características predictoras y la variable objetivo\n",
        "selected_features = ['reanalysis_relative_humidity_percent', 'reanalysis_avg_temp_k', \n",
        "                     'reanalysis_air_temp_k', 'reanalysis_dew_point_temp_k', \n",
        "                     'reanalysis_precip_amt_kg_per_m2', 'year', 'weekofyear']\n",
        "\n",
        "X_train = train[selected_features]\n",
        "y_train = train['total_cases']"
      ],
      "metadata": {
        "id": "tgNmpZVPQAMF"
      },
      "execution_count": 20,
      "outputs": []
    },
    {
      "cell_type": "code",
      "source": [
        "# Dividir los datos en conjuntos de entrenamiento y validación\n",
        "X_train, X_val, y_train, y_val = train_test_split(X_train, y_train, test_size=0.2, random_state=42)"
      ],
      "metadata": {
        "id": "ug4OH6CzS736"
      },
      "execution_count": 22,
      "outputs": []
    },
    {
      "cell_type": "code",
      "source": [
        "# Crear el modelo de regresión lineal y ajustarlo a los datos de entrenamiento\n",
        "model = LinearRegression()\n",
        "model.fit(X_train, y_train)"
      ],
      "metadata": {
        "colab": {
          "base_uri": "https://localhost:8080/",
          "height": 75
        },
        "id": "SxbayaHIQAJT",
        "outputId": "2ceddd1c-a03b-4b63-9a3e-ee71551e6e73"
      },
      "execution_count": 23,
      "outputs": [
        {
          "output_type": "execute_result",
          "data": {
            "text/plain": [
              "LinearRegression()"
            ],
            "text/html": [
              "<style>#sk-container-id-1 {color: black;background-color: white;}#sk-container-id-1 pre{padding: 0;}#sk-container-id-1 div.sk-toggleable {background-color: white;}#sk-container-id-1 label.sk-toggleable__label {cursor: pointer;display: block;width: 100%;margin-bottom: 0;padding: 0.3em;box-sizing: border-box;text-align: center;}#sk-container-id-1 label.sk-toggleable__label-arrow:before {content: \"▸\";float: left;margin-right: 0.25em;color: #696969;}#sk-container-id-1 label.sk-toggleable__label-arrow:hover:before {color: black;}#sk-container-id-1 div.sk-estimator:hover label.sk-toggleable__label-arrow:before {color: black;}#sk-container-id-1 div.sk-toggleable__content {max-height: 0;max-width: 0;overflow: hidden;text-align: left;background-color: #f0f8ff;}#sk-container-id-1 div.sk-toggleable__content pre {margin: 0.2em;color: black;border-radius: 0.25em;background-color: #f0f8ff;}#sk-container-id-1 input.sk-toggleable__control:checked~div.sk-toggleable__content {max-height: 200px;max-width: 100%;overflow: auto;}#sk-container-id-1 input.sk-toggleable__control:checked~label.sk-toggleable__label-arrow:before {content: \"▾\";}#sk-container-id-1 div.sk-estimator input.sk-toggleable__control:checked~label.sk-toggleable__label {background-color: #d4ebff;}#sk-container-id-1 div.sk-label input.sk-toggleable__control:checked~label.sk-toggleable__label {background-color: #d4ebff;}#sk-container-id-1 input.sk-hidden--visually {border: 0;clip: rect(1px 1px 1px 1px);clip: rect(1px, 1px, 1px, 1px);height: 1px;margin: -1px;overflow: hidden;padding: 0;position: absolute;width: 1px;}#sk-container-id-1 div.sk-estimator {font-family: monospace;background-color: #f0f8ff;border: 1px dotted black;border-radius: 0.25em;box-sizing: border-box;margin-bottom: 0.5em;}#sk-container-id-1 div.sk-estimator:hover {background-color: #d4ebff;}#sk-container-id-1 div.sk-parallel-item::after {content: \"\";width: 100%;border-bottom: 1px solid gray;flex-grow: 1;}#sk-container-id-1 div.sk-label:hover label.sk-toggleable__label {background-color: #d4ebff;}#sk-container-id-1 div.sk-serial::before {content: \"\";position: absolute;border-left: 1px solid gray;box-sizing: border-box;top: 0;bottom: 0;left: 50%;z-index: 0;}#sk-container-id-1 div.sk-serial {display: flex;flex-direction: column;align-items: center;background-color: white;padding-right: 0.2em;padding-left: 0.2em;position: relative;}#sk-container-id-1 div.sk-item {position: relative;z-index: 1;}#sk-container-id-1 div.sk-parallel {display: flex;align-items: stretch;justify-content: center;background-color: white;position: relative;}#sk-container-id-1 div.sk-item::before, #sk-container-id-1 div.sk-parallel-item::before {content: \"\";position: absolute;border-left: 1px solid gray;box-sizing: border-box;top: 0;bottom: 0;left: 50%;z-index: -1;}#sk-container-id-1 div.sk-parallel-item {display: flex;flex-direction: column;z-index: 1;position: relative;background-color: white;}#sk-container-id-1 div.sk-parallel-item:first-child::after {align-self: flex-end;width: 50%;}#sk-container-id-1 div.sk-parallel-item:last-child::after {align-self: flex-start;width: 50%;}#sk-container-id-1 div.sk-parallel-item:only-child::after {width: 0;}#sk-container-id-1 div.sk-dashed-wrapped {border: 1px dashed gray;margin: 0 0.4em 0.5em 0.4em;box-sizing: border-box;padding-bottom: 0.4em;background-color: white;}#sk-container-id-1 div.sk-label label {font-family: monospace;font-weight: bold;display: inline-block;line-height: 1.2em;}#sk-container-id-1 div.sk-label-container {text-align: center;}#sk-container-id-1 div.sk-container {/* jupyter's `normalize.less` sets `[hidden] { display: none; }` but bootstrap.min.css set `[hidden] { display: none !important; }` so we also need the `!important` here to be able to override the default hidden behavior on the sphinx rendered scikit-learn.org. See: https://github.com/scikit-learn/scikit-learn/issues/21755 */display: inline-block !important;position: relative;}#sk-container-id-1 div.sk-text-repr-fallback {display: none;}</style><div id=\"sk-container-id-1\" class=\"sk-top-container\"><div class=\"sk-text-repr-fallback\"><pre>LinearRegression()</pre><b>In a Jupyter environment, please rerun this cell to show the HTML representation or trust the notebook. <br />On GitHub, the HTML representation is unable to render, please try loading this page with nbviewer.org.</b></div><div class=\"sk-container\" hidden><div class=\"sk-item\"><div class=\"sk-estimator sk-toggleable\"><input class=\"sk-toggleable__control sk-hidden--visually\" id=\"sk-estimator-id-1\" type=\"checkbox\" checked><label for=\"sk-estimator-id-1\" class=\"sk-toggleable__label sk-toggleable__label-arrow\">LinearRegression</label><div class=\"sk-toggleable__content\"><pre>LinearRegression()</pre></div></div></div></div></div>"
            ]
          },
          "metadata": {},
          "execution_count": 23
        }
      ]
    },
    {
      "cell_type": "code",
      "source": [
        "# Utilizar el modelo para hacer predicciones en los datos de validación\n",
        "y_pred = model.predict(X_val)"
      ],
      "metadata": {
        "id": "SVpw6MjOTOqt"
      },
      "execution_count": 24,
      "outputs": []
    },
    {
      "cell_type": "code",
      "source": [
        "# Evaluar el modelo en los datos de validación utilizando el error absoluto medio\n",
        "mae = mean_absolute_error(y_val, y_pred)\n",
        "print(\"Error absoluto medio en validación:\", mae)"
      ],
      "metadata": {
        "colab": {
          "base_uri": "https://localhost:8080/"
        },
        "id": "PG35zRhBTTS3",
        "outputId": "92c7de8d-e57a-4532-dddd-ccc0bbf61b8b"
      },
      "execution_count": 25,
      "outputs": [
        {
          "output_type": "stream",
          "name": "stdout",
          "text": [
            "Error absoluto medio en validación: 23.611272057564314\n"
          ]
        }
      ]
    },
    {
      "cell_type": "code",
      "source": [
        "# Utilizar el modelo para hacer predicciones en los datos de prueba\n",
        "X_test = test[selected_features]\n",
        "y_pred = model.predict(X_test)"
      ],
      "metadata": {
        "id": "9mgo2taUQAGE"
      },
      "execution_count": 27,
      "outputs": []
    },
    {
      "cell_type": "code",
      "source": [
        "# Transformar los valores negativos en cero\n",
        "y_pred = np.clip(y_pred, a_min=0, a_max=None)"
      ],
      "metadata": {
        "id": "PG1HnfrfTpR0"
      },
      "execution_count": 28,
      "outputs": []
    },
    {
      "cell_type": "code",
      "source": [
        "# Redondear los valores a enteros\n",
        "y_pred = np.round(y_pred).astype(int)"
      ],
      "metadata": {
        "id": "r0EcHQMbTpOc"
      },
      "execution_count": 29,
      "outputs": []
    },
    {
      "cell_type": "code",
      "source": [
        "# Crear un archivo de envío en formato CSV con las predicciones\n",
        "submission = pd.DataFrame({\n",
        "    \"city\": test[\"city\"],\n",
        "    \"year\": test[\"year\"],\n",
        "    \"weekofyear\": test[\"weekofyear\"],\n",
        "    \"total_cases\": y_pred.astype(int)\n",
        "})\n",
        "submission.to_csv(\"sub_reg_ln.csv\", index=False)"
      ],
      "metadata": {
        "id": "vAny5OwdQAC8"
      },
      "execution_count": 31,
      "outputs": []
    },
    {
      "cell_type": "markdown",
      "source": [
        "El código de regresión lineal utiliza la biblioteca sklearn.linear_model para crear un modelo de regresión lineal y ajustarlo a los datos de entrenamiento.\n",
        "\n",
        "Primero, se importa la clase LinearRegression de la biblioteca y se crea una instancia del modelo. Luego, se ajusta el modelo a los datos de entrenamiento utilizando el método fit, que toma las variables predictoras X_train y la variable objetivo y_train.\n",
        "\n",
        "Después, se utilizan las variables predictoras de los datos de prueba X_test para hacer predicciones utilizando el método predict, que devuelve una matriz de valores de predicción.\n",
        "\n",
        "Finalmente, se redondean los valores de predicción a enteros y se guardan en un archivo CSV para enviarlos a la plataforma de competencia.\n",
        "\n",
        "![image.png](data:image/png;base64,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)"
      ],
      "metadata": {
        "id": "dJ5RhDgw8vhd"
      }
    },
    {
      "cell_type": "markdown",
      "source": [
        "## **Árboles de Decisión**"
      ],
      "metadata": {
        "id": "f-N2qG2oVpBN"
      }
    },
    {
      "cell_type": "code",
      "source": [
        "# Importar librerías necesarias\n",
        "from sklearn.tree import DecisionTreeRegressor\n",
        "from sklearn.metrics import mean_absolute_error\n",
        "from sklearn.model_selection import train_test_split\n",
        "\n",
        "# Seleccionar las características predictoras y la variable objetivo\n",
        "selected_features = ['reanalysis_relative_humidity_percent', 'reanalysis_avg_temp_k', \n",
        "                     'reanalysis_air_temp_k', 'reanalysis_dew_point_temp_k', \n",
        "                     'reanalysis_precip_amt_kg_per_m2', 'year', 'weekofyear']\n",
        "X_train = train[selected_features]\n",
        "y_train = train['total_cases']"
      ],
      "metadata": {
        "id": "GSoU8P9mP__z"
      },
      "execution_count": 32,
      "outputs": []
    },
    {
      "cell_type": "code",
      "source": [
        "# Dividir los datos en conjuntos de entrenamiento y validación\n",
        "X_train, X_val, y_train, y_val = train_test_split(X_train, y_train, test_size=0.2, random_state=42)"
      ],
      "metadata": {
        "id": "F6y_Hu7xaooR"
      },
      "execution_count": 33,
      "outputs": []
    },
    {
      "cell_type": "code",
      "source": [
        "# Crear un árbol de decisión con profundidad máxima de 20\n",
        "model = DecisionTreeRegressor(max_depth=20, random_state=0)"
      ],
      "metadata": {
        "id": "7V_FFB0TaweE"
      },
      "execution_count": 34,
      "outputs": []
    },
    {
      "cell_type": "code",
      "source": [
        "# Entrenar el modelo en los datos de entrenamiento\n",
        "model.fit(X_train, y_train)"
      ],
      "metadata": {
        "colab": {
          "base_uri": "https://localhost:8080/",
          "height": 75
        },
        "id": "-q0gRlTpP_88",
        "outputId": "d28bde28-8484-4c02-f642-0445226a5af0"
      },
      "execution_count": 35,
      "outputs": [
        {
          "output_type": "execute_result",
          "data": {
            "text/plain": [
              "DecisionTreeRegressor(max_depth=20, random_state=0)"
            ],
            "text/html": [
              "<style>#sk-container-id-2 {color: black;background-color: white;}#sk-container-id-2 pre{padding: 0;}#sk-container-id-2 div.sk-toggleable {background-color: white;}#sk-container-id-2 label.sk-toggleable__label {cursor: pointer;display: block;width: 100%;margin-bottom: 0;padding: 0.3em;box-sizing: border-box;text-align: center;}#sk-container-id-2 label.sk-toggleable__label-arrow:before {content: \"▸\";float: left;margin-right: 0.25em;color: #696969;}#sk-container-id-2 label.sk-toggleable__label-arrow:hover:before {color: black;}#sk-container-id-2 div.sk-estimator:hover label.sk-toggleable__label-arrow:before {color: black;}#sk-container-id-2 div.sk-toggleable__content {max-height: 0;max-width: 0;overflow: hidden;text-align: left;background-color: #f0f8ff;}#sk-container-id-2 div.sk-toggleable__content pre {margin: 0.2em;color: black;border-radius: 0.25em;background-color: #f0f8ff;}#sk-container-id-2 input.sk-toggleable__control:checked~div.sk-toggleable__content {max-height: 200px;max-width: 100%;overflow: auto;}#sk-container-id-2 input.sk-toggleable__control:checked~label.sk-toggleable__label-arrow:before {content: \"▾\";}#sk-container-id-2 div.sk-estimator input.sk-toggleable__control:checked~label.sk-toggleable__label {background-color: #d4ebff;}#sk-container-id-2 div.sk-label input.sk-toggleable__control:checked~label.sk-toggleable__label {background-color: #d4ebff;}#sk-container-id-2 input.sk-hidden--visually {border: 0;clip: rect(1px 1px 1px 1px);clip: rect(1px, 1px, 1px, 1px);height: 1px;margin: -1px;overflow: hidden;padding: 0;position: absolute;width: 1px;}#sk-container-id-2 div.sk-estimator {font-family: monospace;background-color: #f0f8ff;border: 1px dotted black;border-radius: 0.25em;box-sizing: border-box;margin-bottom: 0.5em;}#sk-container-id-2 div.sk-estimator:hover {background-color: #d4ebff;}#sk-container-id-2 div.sk-parallel-item::after {content: \"\";width: 100%;border-bottom: 1px solid gray;flex-grow: 1;}#sk-container-id-2 div.sk-label:hover label.sk-toggleable__label {background-color: #d4ebff;}#sk-container-id-2 div.sk-serial::before {content: \"\";position: absolute;border-left: 1px solid gray;box-sizing: border-box;top: 0;bottom: 0;left: 50%;z-index: 0;}#sk-container-id-2 div.sk-serial {display: flex;flex-direction: column;align-items: center;background-color: white;padding-right: 0.2em;padding-left: 0.2em;position: relative;}#sk-container-id-2 div.sk-item {position: relative;z-index: 1;}#sk-container-id-2 div.sk-parallel {display: flex;align-items: stretch;justify-content: center;background-color: white;position: relative;}#sk-container-id-2 div.sk-item::before, #sk-container-id-2 div.sk-parallel-item::before {content: \"\";position: absolute;border-left: 1px solid gray;box-sizing: border-box;top: 0;bottom: 0;left: 50%;z-index: -1;}#sk-container-id-2 div.sk-parallel-item {display: flex;flex-direction: column;z-index: 1;position: relative;background-color: white;}#sk-container-id-2 div.sk-parallel-item:first-child::after {align-self: flex-end;width: 50%;}#sk-container-id-2 div.sk-parallel-item:last-child::after {align-self: flex-start;width: 50%;}#sk-container-id-2 div.sk-parallel-item:only-child::after {width: 0;}#sk-container-id-2 div.sk-dashed-wrapped {border: 1px dashed gray;margin: 0 0.4em 0.5em 0.4em;box-sizing: border-box;padding-bottom: 0.4em;background-color: white;}#sk-container-id-2 div.sk-label label {font-family: monospace;font-weight: bold;display: inline-block;line-height: 1.2em;}#sk-container-id-2 div.sk-label-container {text-align: center;}#sk-container-id-2 div.sk-container {/* jupyter's `normalize.less` sets `[hidden] { display: none; }` but bootstrap.min.css set `[hidden] { display: none !important; }` so we also need the `!important` here to be able to override the default hidden behavior on the sphinx rendered scikit-learn.org. See: https://github.com/scikit-learn/scikit-learn/issues/21755 */display: inline-block !important;position: relative;}#sk-container-id-2 div.sk-text-repr-fallback {display: none;}</style><div id=\"sk-container-id-2\" class=\"sk-top-container\"><div class=\"sk-text-repr-fallback\"><pre>DecisionTreeRegressor(max_depth=20, random_state=0)</pre><b>In a Jupyter environment, please rerun this cell to show the HTML representation or trust the notebook. <br />On GitHub, the HTML representation is unable to render, please try loading this page with nbviewer.org.</b></div><div class=\"sk-container\" hidden><div class=\"sk-item\"><div class=\"sk-estimator sk-toggleable\"><input class=\"sk-toggleable__control sk-hidden--visually\" id=\"sk-estimator-id-2\" type=\"checkbox\" checked><label for=\"sk-estimator-id-2\" class=\"sk-toggleable__label sk-toggleable__label-arrow\">DecisionTreeRegressor</label><div class=\"sk-toggleable__content\"><pre>DecisionTreeRegressor(max_depth=20, random_state=0)</pre></div></div></div></div></div>"
            ]
          },
          "metadata": {},
          "execution_count": 35
        }
      ]
    },
    {
      "cell_type": "code",
      "source": [
        "# Utilizar el modelo para hacer predicciones en los datos de validación\n",
        "y_pred = model.predict(X_val)"
      ],
      "metadata": {
        "id": "M59pMd2va3gI"
      },
      "execution_count": 36,
      "outputs": []
    },
    {
      "cell_type": "code",
      "source": [
        "# Evaluar el modelo en los datos de validación utilizando el error absoluto medio\n",
        "mae = mean_absolute_error(y_val, y_pred)\n",
        "print(\"Error absoluto medio en validación:\", mae)"
      ],
      "metadata": {
        "colab": {
          "base_uri": "https://localhost:8080/"
        },
        "id": "copMRP3ia8eD",
        "outputId": "28aa0f6a-eea0-4e16-9dd2-5e7a82f2493d"
      },
      "execution_count": 37,
      "outputs": [
        {
          "output_type": "stream",
          "name": "stdout",
          "text": [
            "Error absoluto medio en validación: 16.849600456621005\n"
          ]
        }
      ]
    },
    {
      "cell_type": "code",
      "source": [
        "# Utilizar el modelo para hacer predicciones en los datos de prueba\n",
        "X_test = test[selected_features]\n",
        "y_pred = model.predict(X_test)"
      ],
      "metadata": {
        "id": "fYb4be-7P_50"
      },
      "execution_count": 42,
      "outputs": []
    },
    {
      "cell_type": "code",
      "source": [
        "# Transformar los valores negativos en cero\n",
        "y_pred = np.clip(y_pred, a_min=0, a_max=None)"
      ],
      "metadata": {
        "id": "u88SRun3P_2r"
      },
      "execution_count": 43,
      "outputs": []
    },
    {
      "cell_type": "code",
      "source": [
        "  # Redondear los valores a enteros\n",
        "  y_pred = np.round(y_pred).astype(int)"
      ],
      "metadata": {
        "id": "zX_MP9NBP_zr"
      },
      "execution_count": 44,
      "outputs": []
    },
    {
      "cell_type": "code",
      "source": [
        "# Crear un archivo de envío en formato CSV con las predicciones\n",
        "submission = pd.DataFrame({\n",
        "    \"city\": test[\"city\"],\n",
        "    \"year\": test[\"year\"],\n",
        "    \"weekofyear\": test[\"weekofyear\"],\n",
        "    \"total_cases\": y_pred\n",
        "})\n",
        "submission.to_csv(\"sub_dec_tree.csv\", index=False)"
      ],
      "metadata": {
        "id": "iVYGy585P_wj"
      },
      "execution_count": 45,
      "outputs": []
    },
    {
      "cell_type": "markdown",
      "source": [
        "El código de árboles de decisión utiliza la biblioteca sklearn.tree para crear un modelo de árbol de decisión y ajustarlo a los datos de entrenamiento.\n",
        "\n",
        "Primero, se importa la clase DecisionTreeRegressor de la biblioteca y se crea una instancia del modelo. Luego, se ajusta el modelo a los datos de entrenamiento utilizando el método fit, que toma las variables predictoras X_train y la variable objetivo y_train.\n",
        "\n",
        "Después, se utilizan las variables predictoras de los datos de prueba X_test para hacer predicciones utilizando el método predict, que devuelve una matriz de valores de predicción.\n",
        "Se ha seleccionado una profundidad de 20 como valor óptimo después de una búsqueda exhaustiva de hiperparámetros. Sin embargo, es importante tener en cuenta que los valores óptimos de la profundidad pueden variar según el conjunto de datos y el problema que se esté abordando.\n",
        "\n",
        "Finalmente, se redondean los valores de predicción a enteros y se guardan en un archivo CSV para enviarlos a la plataforma de competencia.\n",
        "\n",
        "![image.png](data:image/png;base64,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)\n",
        "\n"
      ],
      "metadata": {
        "id": "svao6iI0883L"
      }
    },
    {
      "cell_type": "markdown",
      "source": [
        "## **Ramdon Forest**"
      ],
      "metadata": {
        "id": "E2TauZSAY4ug"
      }
    },
    {
      "cell_type": "code",
      "source": [
        "from sklearn.ensemble import RandomForestRegressor\n",
        "from sklearn.metrics import mean_absolute_error\n",
        "from sklearn.model_selection import train_test_split\n",
        "\n",
        "# Seleccionar las características predictoras y la variable objetivo\n",
        "selected_features = ['reanalysis_relative_humidity_percent', 'reanalysis_avg_temp_k', \n",
        "                     'reanalysis_air_temp_k', 'reanalysis_dew_point_temp_k', \n",
        "                     'reanalysis_precip_amt_kg_per_m2', 'year', 'weekofyear']\n",
        "X_train = train[selected_features]\n",
        "y_train = train['total_cases']"
      ],
      "metadata": {
        "id": "5_mmFvouieqb"
      },
      "execution_count": 46,
      "outputs": []
    },
    {
      "cell_type": "code",
      "source": [
        "# Dividir los datos en conjuntos de entrenamiento y validación\n",
        "X_train, X_val, y_train, y_val = train_test_split(X_train, y_train, test_size=0.2, random_state=42)"
      ],
      "metadata": {
        "id": "HRCj2ompiiKd"
      },
      "execution_count": 47,
      "outputs": []
    },
    {
      "cell_type": "code",
      "source": [
        "# Crear un modelo de Random Forest con 100 árboles y profundidad máxima de 10\n",
        "model = RandomForestRegressor(n_estimators=100, max_depth=10, random_state=0)"
      ],
      "metadata": {
        "id": "Lk6pM7ynP_tr"
      },
      "execution_count": 48,
      "outputs": []
    },
    {
      "cell_type": "code",
      "source": [
        "# Entrenar el modelo en los datos de entrenamiento\n",
        "model.fit(X_train, y_train)"
      ],
      "metadata": {
        "id": "jX6byDMGP_qr",
        "colab": {
          "base_uri": "https://localhost:8080/",
          "height": 75
        },
        "outputId": "997478ac-bdc6-4843-8780-9e2d13fdeaf4"
      },
      "execution_count": 49,
      "outputs": [
        {
          "output_type": "execute_result",
          "data": {
            "text/plain": [
              "RandomForestRegressor(max_depth=10, random_state=0)"
            ],
            "text/html": [
              "<style>#sk-container-id-3 {color: black;background-color: white;}#sk-container-id-3 pre{padding: 0;}#sk-container-id-3 div.sk-toggleable {background-color: white;}#sk-container-id-3 label.sk-toggleable__label {cursor: pointer;display: block;width: 100%;margin-bottom: 0;padding: 0.3em;box-sizing: border-box;text-align: center;}#sk-container-id-3 label.sk-toggleable__label-arrow:before {content: \"▸\";float: left;margin-right: 0.25em;color: #696969;}#sk-container-id-3 label.sk-toggleable__label-arrow:hover:before {color: black;}#sk-container-id-3 div.sk-estimator:hover label.sk-toggleable__label-arrow:before {color: black;}#sk-container-id-3 div.sk-toggleable__content {max-height: 0;max-width: 0;overflow: hidden;text-align: left;background-color: #f0f8ff;}#sk-container-id-3 div.sk-toggleable__content pre {margin: 0.2em;color: black;border-radius: 0.25em;background-color: #f0f8ff;}#sk-container-id-3 input.sk-toggleable__control:checked~div.sk-toggleable__content {max-height: 200px;max-width: 100%;overflow: auto;}#sk-container-id-3 input.sk-toggleable__control:checked~label.sk-toggleable__label-arrow:before {content: \"▾\";}#sk-container-id-3 div.sk-estimator input.sk-toggleable__control:checked~label.sk-toggleable__label {background-color: #d4ebff;}#sk-container-id-3 div.sk-label input.sk-toggleable__control:checked~label.sk-toggleable__label {background-color: #d4ebff;}#sk-container-id-3 input.sk-hidden--visually {border: 0;clip: rect(1px 1px 1px 1px);clip: rect(1px, 1px, 1px, 1px);height: 1px;margin: -1px;overflow: hidden;padding: 0;position: absolute;width: 1px;}#sk-container-id-3 div.sk-estimator {font-family: monospace;background-color: #f0f8ff;border: 1px dotted black;border-radius: 0.25em;box-sizing: border-box;margin-bottom: 0.5em;}#sk-container-id-3 div.sk-estimator:hover {background-color: #d4ebff;}#sk-container-id-3 div.sk-parallel-item::after {content: \"\";width: 100%;border-bottom: 1px solid gray;flex-grow: 1;}#sk-container-id-3 div.sk-label:hover label.sk-toggleable__label {background-color: #d4ebff;}#sk-container-id-3 div.sk-serial::before {content: \"\";position: absolute;border-left: 1px solid gray;box-sizing: border-box;top: 0;bottom: 0;left: 50%;z-index: 0;}#sk-container-id-3 div.sk-serial {display: flex;flex-direction: column;align-items: center;background-color: white;padding-right: 0.2em;padding-left: 0.2em;position: relative;}#sk-container-id-3 div.sk-item {position: relative;z-index: 1;}#sk-container-id-3 div.sk-parallel {display: flex;align-items: stretch;justify-content: center;background-color: white;position: relative;}#sk-container-id-3 div.sk-item::before, #sk-container-id-3 div.sk-parallel-item::before {content: \"\";position: absolute;border-left: 1px solid gray;box-sizing: border-box;top: 0;bottom: 0;left: 50%;z-index: -1;}#sk-container-id-3 div.sk-parallel-item {display: flex;flex-direction: column;z-index: 1;position: relative;background-color: white;}#sk-container-id-3 div.sk-parallel-item:first-child::after {align-self: flex-end;width: 50%;}#sk-container-id-3 div.sk-parallel-item:last-child::after {align-self: flex-start;width: 50%;}#sk-container-id-3 div.sk-parallel-item:only-child::after {width: 0;}#sk-container-id-3 div.sk-dashed-wrapped {border: 1px dashed gray;margin: 0 0.4em 0.5em 0.4em;box-sizing: border-box;padding-bottom: 0.4em;background-color: white;}#sk-container-id-3 div.sk-label label {font-family: monospace;font-weight: bold;display: inline-block;line-height: 1.2em;}#sk-container-id-3 div.sk-label-container {text-align: center;}#sk-container-id-3 div.sk-container {/* jupyter's `normalize.less` sets `[hidden] { display: none; }` but bootstrap.min.css set `[hidden] { display: none !important; }` so we also need the `!important` here to be able to override the default hidden behavior on the sphinx rendered scikit-learn.org. See: https://github.com/scikit-learn/scikit-learn/issues/21755 */display: inline-block !important;position: relative;}#sk-container-id-3 div.sk-text-repr-fallback {display: none;}</style><div id=\"sk-container-id-3\" class=\"sk-top-container\"><div class=\"sk-text-repr-fallback\"><pre>RandomForestRegressor(max_depth=10, random_state=0)</pre><b>In a Jupyter environment, please rerun this cell to show the HTML representation or trust the notebook. <br />On GitHub, the HTML representation is unable to render, please try loading this page with nbviewer.org.</b></div><div class=\"sk-container\" hidden><div class=\"sk-item\"><div class=\"sk-estimator sk-toggleable\"><input class=\"sk-toggleable__control sk-hidden--visually\" id=\"sk-estimator-id-3\" type=\"checkbox\" checked><label for=\"sk-estimator-id-3\" class=\"sk-toggleable__label sk-toggleable__label-arrow\">RandomForestRegressor</label><div class=\"sk-toggleable__content\"><pre>RandomForestRegressor(max_depth=10, random_state=0)</pre></div></div></div></div></div>"
            ]
          },
          "metadata": {},
          "execution_count": 49
        }
      ]
    },
    {
      "cell_type": "code",
      "source": [
        "# Utilizar el modelo para hacer predicciones en los datos de validación\n",
        "y_pred_val = model.predict(X_val)\n",
        "\n",
        "# Evaluar el modelo en los datos de validación utilizando el error absoluto medio\n",
        "mae_val = mean_absolute_error(y_val, y_pred_val)\n",
        "print(\"Error absoluto medio en validación:\", mae_val)"
      ],
      "metadata": {
        "colab": {
          "base_uri": "https://localhost:8080/"
        },
        "id": "ozDIQadBinuf",
        "outputId": "b8e6dd76-08e4-4904-bd35-5d47a02ba56a"
      },
      "execution_count": 50,
      "outputs": [
        {
          "output_type": "stream",
          "name": "stdout",
          "text": [
            "Error absoluto medio en validación: 13.426728964623127\n"
          ]
        }
      ]
    },
    {
      "cell_type": "code",
      "source": [
        "# Utilizar el modelo para hacer predicciones en los datos de prueba\n",
        "X_test = test[selected_features]\n",
        "y_pred_test = model.predict(X_test)"
      ],
      "metadata": {
        "id": "2sztix8uP_nj"
      },
      "execution_count": 51,
      "outputs": []
    },
    {
      "cell_type": "code",
      "source": [
        "# Transformar los valores negativos en cero\n",
        "y_pred_test = np.clip(y_pred, a_min=0, a_max=None)"
      ],
      "metadata": {
        "id": "HwXWU-D8P_kr"
      },
      "execution_count": 52,
      "outputs": []
    },
    {
      "cell_type": "code",
      "source": [
        "# Redondear los valores a enteros\n",
        "y_pred_test = np.round(y_pred).astype(int)"
      ],
      "metadata": {
        "id": "lQaoMaKUP_hj"
      },
      "execution_count": 53,
      "outputs": []
    },
    {
      "cell_type": "code",
      "source": [
        "# Crear un archivo de envío en formato CSV con las predicciones\n",
        "submission = pd.DataFrame({\n",
        "    \"city\": test[\"city\"],\n",
        "    \"year\": test[\"year\"],\n",
        "    \"weekofyear\": test[\"weekofyear\"],\n",
        "    \"total_cases\": y_pred\n",
        "})\n",
        "submission.to_csv(\"sub_rnd_frts.csv\", index=False)"
      ],
      "metadata": {
        "id": "xl9vq98VP_ej"
      },
      "execution_count": 54,
      "outputs": []
    },
    {
      "cell_type": "markdown",
      "source": [
        "Primero, se importa la clase RandomForestRegressor de la biblioteca y se crea una instancia del modelo con los hiperparámetros especificados. En este caso, se ha utilizado una profundidad máxima de árbol de 10, se han utilizado 100 árboles de decisión y se ha especificado random_state para asegurar que los resultados sean reproducibles.\n",
        "\n",
        "Luego, se ajusta el modelo a los datos de entrenamiento utilizando el método fit, que toma las variables predictoras X_train y la variable objetivo y_train.\n",
        "\n",
        "Después, se utilizan las variables predictoras de los datos de prueba X_test para hacer predicciones utilizando el método predict, que devuelve una matriz de valores de predicción.\n",
        "\n",
        "Finalmente, se redondean los valores de predicción a enteros y se guardan en un archivo CSV para enviarlos a la plataforma de competencia.\n",
        "\n",
        "Random Forest es una técnica de conjunto que combina múltiples árboles de decisión para mejorar la precisión y reducir el sobreajuste. Los árboles de decisión individuales se construyen sobre muestras aleatorias del conjunto de datos y de características, y luego se combinan para producir una predicción final. El uso de múltiples árboles de decisión y la aleatoriedad en la selección de muestras y características ayuda a reducir la varianza y mejorar la generalización del modelo.\n",
        "\n",
        "![image.png](data:image/png;base64,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)"
      ],
      "metadata": {
        "id": "XWICqLjc9oGq"
      }
    },
    {
      "cell_type": "markdown",
      "source": [
        "## **SVM**"
      ],
      "metadata": {
        "id": "oXRdInbMbY1L"
      }
    },
    {
      "cell_type": "code",
      "source": [
        "from sklearn.svm import SVR\n",
        "from sklearn.model_selection import GridSearchCV\n",
        "\n",
        "# Crear un modelo SVM\n",
        "model = SVR()"
      ],
      "metadata": {
        "id": "MXE0wP6Wahpu"
      },
      "execution_count": 92,
      "outputs": []
    },
    {
      "cell_type": "code",
      "source": [
        "# Definir los hiperparámetros a ajustar\n",
        "param_grid = {\n",
        "    'C': [0.1, 1, 10, 100],\n",
        "    'gamma': [0.1, 1, 10],\n",
        "    'kernel': ['linear', 'rbf']\n",
        "}"
      ],
      "metadata": {
        "id": "4b7PPVilahm-"
      },
      "execution_count": 93,
      "outputs": []
    },
    {
      "cell_type": "code",
      "source": [
        "# Realizar una búsqueda de cuadrícula para encontrar los mejores hiperparámetros\n",
        "grid_search = GridSearchCV(model, param_grid, cv=5, scoring='neg_mean_absolute_error', n_jobs=-1)\n",
        "grid_search.fit(X_train, y_train)"
      ],
      "metadata": {
        "colab": {
          "base_uri": "https://localhost:8080/",
          "height": 118
        },
        "id": "vPVGFc4Uahkg",
        "outputId": "747cc7aa-23a8-40ee-ef8b-4062dbca5766"
      },
      "execution_count": 94,
      "outputs": [
        {
          "output_type": "execute_result",
          "data": {
            "text/plain": [
              "GridSearchCV(cv=5, estimator=SVR(), n_jobs=-1,\n",
              "             param_grid={'C': [0.1, 1, 10, 100], 'gamma': [0.1, 1, 10],\n",
              "                         'kernel': ['linear', 'rbf']},\n",
              "             scoring='neg_mean_absolute_error')"
            ],
            "text/html": [
              "<style>#sk-container-id-8 {color: black;background-color: white;}#sk-container-id-8 pre{padding: 0;}#sk-container-id-8 div.sk-toggleable {background-color: white;}#sk-container-id-8 label.sk-toggleable__label {cursor: pointer;display: block;width: 100%;margin-bottom: 0;padding: 0.3em;box-sizing: border-box;text-align: center;}#sk-container-id-8 label.sk-toggleable__label-arrow:before {content: \"▸\";float: left;margin-right: 0.25em;color: #696969;}#sk-container-id-8 label.sk-toggleable__label-arrow:hover:before {color: black;}#sk-container-id-8 div.sk-estimator:hover label.sk-toggleable__label-arrow:before {color: black;}#sk-container-id-8 div.sk-toggleable__content {max-height: 0;max-width: 0;overflow: hidden;text-align: left;background-color: #f0f8ff;}#sk-container-id-8 div.sk-toggleable__content pre {margin: 0.2em;color: black;border-radius: 0.25em;background-color: #f0f8ff;}#sk-container-id-8 input.sk-toggleable__control:checked~div.sk-toggleable__content {max-height: 200px;max-width: 100%;overflow: auto;}#sk-container-id-8 input.sk-toggleable__control:checked~label.sk-toggleable__label-arrow:before {content: \"▾\";}#sk-container-id-8 div.sk-estimator input.sk-toggleable__control:checked~label.sk-toggleable__label {background-color: #d4ebff;}#sk-container-id-8 div.sk-label input.sk-toggleable__control:checked~label.sk-toggleable__label {background-color: #d4ebff;}#sk-container-id-8 input.sk-hidden--visually {border: 0;clip: rect(1px 1px 1px 1px);clip: rect(1px, 1px, 1px, 1px);height: 1px;margin: -1px;overflow: hidden;padding: 0;position: absolute;width: 1px;}#sk-container-id-8 div.sk-estimator {font-family: monospace;background-color: #f0f8ff;border: 1px dotted black;border-radius: 0.25em;box-sizing: border-box;margin-bottom: 0.5em;}#sk-container-id-8 div.sk-estimator:hover {background-color: #d4ebff;}#sk-container-id-8 div.sk-parallel-item::after {content: \"\";width: 100%;border-bottom: 1px solid gray;flex-grow: 1;}#sk-container-id-8 div.sk-label:hover label.sk-toggleable__label {background-color: #d4ebff;}#sk-container-id-8 div.sk-serial::before {content: \"\";position: absolute;border-left: 1px solid gray;box-sizing: border-box;top: 0;bottom: 0;left: 50%;z-index: 0;}#sk-container-id-8 div.sk-serial {display: flex;flex-direction: column;align-items: center;background-color: white;padding-right: 0.2em;padding-left: 0.2em;position: relative;}#sk-container-id-8 div.sk-item {position: relative;z-index: 1;}#sk-container-id-8 div.sk-parallel {display: flex;align-items: stretch;justify-content: center;background-color: white;position: relative;}#sk-container-id-8 div.sk-item::before, #sk-container-id-8 div.sk-parallel-item::before {content: \"\";position: absolute;border-left: 1px solid gray;box-sizing: border-box;top: 0;bottom: 0;left: 50%;z-index: -1;}#sk-container-id-8 div.sk-parallel-item {display: flex;flex-direction: column;z-index: 1;position: relative;background-color: white;}#sk-container-id-8 div.sk-parallel-item:first-child::after {align-self: flex-end;width: 50%;}#sk-container-id-8 div.sk-parallel-item:last-child::after {align-self: flex-start;width: 50%;}#sk-container-id-8 div.sk-parallel-item:only-child::after {width: 0;}#sk-container-id-8 div.sk-dashed-wrapped {border: 1px dashed gray;margin: 0 0.4em 0.5em 0.4em;box-sizing: border-box;padding-bottom: 0.4em;background-color: white;}#sk-container-id-8 div.sk-label label {font-family: monospace;font-weight: bold;display: inline-block;line-height: 1.2em;}#sk-container-id-8 div.sk-label-container {text-align: center;}#sk-container-id-8 div.sk-container {/* jupyter's `normalize.less` sets `[hidden] { display: none; }` but bootstrap.min.css set `[hidden] { display: none !important; }` so we also need the `!important` here to be able to override the default hidden behavior on the sphinx rendered scikit-learn.org. See: https://github.com/scikit-learn/scikit-learn/issues/21755 */display: inline-block !important;position: relative;}#sk-container-id-8 div.sk-text-repr-fallback {display: none;}</style><div id=\"sk-container-id-8\" class=\"sk-top-container\"><div class=\"sk-text-repr-fallback\"><pre>GridSearchCV(cv=5, estimator=SVR(), n_jobs=-1,\n",
              "             param_grid={&#x27;C&#x27;: [0.1, 1, 10, 100], &#x27;gamma&#x27;: [0.1, 1, 10],\n",
              "                         &#x27;kernel&#x27;: [&#x27;linear&#x27;, &#x27;rbf&#x27;]},\n",
              "             scoring=&#x27;neg_mean_absolute_error&#x27;)</pre><b>In a Jupyter environment, please rerun this cell to show the HTML representation or trust the notebook. <br />On GitHub, the HTML representation is unable to render, please try loading this page with nbviewer.org.</b></div><div class=\"sk-container\" hidden><div class=\"sk-item sk-dashed-wrapped\"><div class=\"sk-label-container\"><div class=\"sk-label sk-toggleable\"><input class=\"sk-toggleable__control sk-hidden--visually\" id=\"sk-estimator-id-8\" type=\"checkbox\" ><label for=\"sk-estimator-id-8\" class=\"sk-toggleable__label sk-toggleable__label-arrow\">GridSearchCV</label><div class=\"sk-toggleable__content\"><pre>GridSearchCV(cv=5, estimator=SVR(), n_jobs=-1,\n",
              "             param_grid={&#x27;C&#x27;: [0.1, 1, 10, 100], &#x27;gamma&#x27;: [0.1, 1, 10],\n",
              "                         &#x27;kernel&#x27;: [&#x27;linear&#x27;, &#x27;rbf&#x27;]},\n",
              "             scoring=&#x27;neg_mean_absolute_error&#x27;)</pre></div></div></div><div class=\"sk-parallel\"><div class=\"sk-parallel-item\"><div class=\"sk-item\"><div class=\"sk-label-container\"><div class=\"sk-label sk-toggleable\"><input class=\"sk-toggleable__control sk-hidden--visually\" id=\"sk-estimator-id-9\" type=\"checkbox\" ><label for=\"sk-estimator-id-9\" class=\"sk-toggleable__label sk-toggleable__label-arrow\">estimator: SVR</label><div class=\"sk-toggleable__content\"><pre>SVR()</pre></div></div></div><div class=\"sk-serial\"><div class=\"sk-item\"><div class=\"sk-estimator sk-toggleable\"><input class=\"sk-toggleable__control sk-hidden--visually\" id=\"sk-estimator-id-10\" type=\"checkbox\" ><label for=\"sk-estimator-id-10\" class=\"sk-toggleable__label sk-toggleable__label-arrow\">SVR</label><div class=\"sk-toggleable__content\"><pre>SVR()</pre></div></div></div></div></div></div></div></div></div></div>"
            ]
          },
          "metadata": {},
          "execution_count": 94
        }
      ]
    },
    {
      "cell_type": "code",
      "source": [
        "# Imprimir los mejores hiperparámetros y la puntuación de validación cruzada\n",
        "print(\"Mejores hiperparámetros:\", grid_search.best_params_)\n",
        "print(\"Puntuación de validación cruzada:\", -grid_search.best_score_)"
      ],
      "metadata": {
        "colab": {
          "base_uri": "https://localhost:8080/"
        },
        "id": "EuMtDYVmahhu",
        "outputId": "fdf06eaf-bd13-4d1c-9515-c7bdd13856cf"
      },
      "execution_count": 95,
      "outputs": [
        {
          "output_type": "stream",
          "name": "stdout",
          "text": [
            "Mejores hiperparámetros: {'C': 1, 'gamma': 0.1, 'kernel': 'linear'}\n",
            "Puntuación de validación cruzada: 16.99018887224296\n"
          ]
        }
      ]
    },
    {
      "cell_type": "code",
      "source": [
        "# Utilizar el modelo con los mejores hiperparámetros para hacer predicciones en los datos de prueba\n",
        "model = SVR(**grid_search.best_params_)\n",
        "model.fit(X_train, y_train)\n",
        "y_pred = model.predict(X_test)"
      ],
      "metadata": {
        "id": "_YqsM2ZxahfL"
      },
      "execution_count": 96,
      "outputs": []
    },
    {
      "cell_type": "code",
      "source": [
        "# Transformar los valores negativos en cero\n",
        "y_pred = np.clip(y_pred, a_min=0, a_max=None)"
      ],
      "metadata": {
        "id": "OuS6QT2PahcW"
      },
      "execution_count": 97,
      "outputs": []
    },
    {
      "cell_type": "code",
      "source": [
        "# Redondear los valores a enteros\n",
        "y_pred = np.round(y_pred).astype(int)"
      ],
      "metadata": {
        "id": "dlNCumN_ahaB"
      },
      "execution_count": 98,
      "outputs": []
    },
    {
      "cell_type": "code",
      "source": [
        "# Crear un archivo de envío en formato CSV con las predicciones\n",
        "submission = pd.DataFrame({\n",
        "    \"city\": test[\"city\"],\n",
        "    \"year\": test[\"year\"],\n",
        "    \"weekofyear\": test[\"weekofyear\"],\n",
        "    \"total_cases\": y_pred\n",
        "})\n",
        "submission.to_csv(\"sub_SVM.csv\", index=False)"
      ],
      "metadata": {
        "id": "AhGy6JOoahXW"
      },
      "execution_count": 99,
      "outputs": []
    },
    {
      "cell_type": "markdown",
      "source": [
        "Primero, se importa la clase SVR de la biblioteca y se crea una instancia del modelo con los hiperparámetros especificados. En este caso, se ha utilizado un kernel lineal y un valor de regularización C de 1000.\n",
        "\n",
        "Los resultados que se muestran son los mejores hiperparámetros encontrados por la búsqueda en cuadrícula (grid search), que incluyen un valor de regularización C de 1 y un kernel lineal. El valor de gamma utilizado fue 0.1. Estos hiperparámetros se encontraron utilizando la técnica de validación cruzada, que implica dividir los datos de entrenamiento en múltiples conjuntos de entrenamiento y validación para evaluar el rendimiento del modelo.\n",
        "\n",
        "La puntuación de validación cruzada informa sobre la capacidad de generalización del modelo. En este caso, se obtuvo una puntuación de validación cruzada de 16.99018887224296. Este puntaje indica la cantidad promedio de error cuadrático medio que se puede esperar del modelo en el conjunto de datos de validación. Cuanto más bajo sea el puntaje, mejor será el rendimiento del modelo.\n",
        "\n",
        "Luego, se ajusta el modelo a los datos de entrenamiento utilizando el método fit, que toma las variables predictoras X_train y la variable objetivo y_train.\n",
        "\n",
        "Después, se utilizan las variables predictoras de los datos de prueba X_test para hacer predicciones utilizando el método predict, que devuelve una matriz de valores de predicción.\n",
        "\n",
        "Finalmente, se redondean los valores de predicción a enteros y se guardan en un archivo CSV para enviarlos a la plataforma de competencia.\n",
        "\n",
        "![image.png](data:image/png;base64,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)"
      ],
      "metadata": {
        "id": "kc1h8Qug972k"
      }
    },
    {
      "cell_type": "markdown",
      "source": [
        "## **Boosting y Bagging**"
      ],
      "metadata": {
        "id": "9wW9SVdAhD3W"
      }
    },
    {
      "cell_type": "code",
      "source": [
        "from sklearn.ensemble import BaggingRegressor, GradientBoostingRegressor\n",
        "from sklearn.model_selection import GridSearchCV\n",
        "\n",
        "# Definir el conjunto de características seleccionadas\n",
        "selected_features = ['reanalysis_relative_humidity_percent', 'reanalysis_avg_temp_k', 'reanalysis_air_temp_k', 'reanalysis_dew_point_temp_k', 'reanalysis_precip_amt_kg_per_m2', 'year', 'weekofyear']"
      ],
      "metadata": {
        "id": "GCEWSHrjahU4"
      },
      "execution_count": 55,
      "outputs": []
    },
    {
      "cell_type": "code",
      "source": [
        "# Seleccionar las características para los datos de entrenamiento y prueba\n",
        "X_train = train[selected_features]\n",
        "X_test = test[selected_features]"
      ],
      "metadata": {
        "id": "O6Ew61GLhMOK"
      },
      "execution_count": 56,
      "outputs": []
    },
    {
      "cell_type": "code",
      "source": [
        "# Seleccionar la variable objetivo para los datos de entrenamiento\n",
        "y_train = train['total_cases']"
      ],
      "metadata": {
        "id": "pq2NggHBhML6"
      },
      "execution_count": 57,
      "outputs": []
    },
    {
      "cell_type": "code",
      "source": [
        "# Dividir los datos en conjuntos de entrenamiento y validación\n",
        "X_train, X_val, y_train, y_val = train_test_split(X_train, y_train, test_size=0.2, random_state=42)"
      ],
      "metadata": {
        "id": "DWHFotXOl_DX"
      },
      "execution_count": 58,
      "outputs": []
    },
    {
      "cell_type": "code",
      "source": [
        "# Definir los modelos Bagging y Boosting\n",
        "bagging = BaggingRegressor()\n",
        "boosting = GradientBoostingRegressor()"
      ],
      "metadata": {
        "id": "BXck1ssFhMJS"
      },
      "execution_count": 59,
      "outputs": []
    },
    {
      "cell_type": "code",
      "source": [
        "# Definir el conjunto de hiperparámetros para ajustar\n",
        "param_grid_bagging = {'n_estimators': [10, 50, 100, 200],\n",
        "                      'max_samples': [0.5, 1.0],\n",
        "                      'max_features': [0.5, 1.0]}\n",
        "param_grid_boosting = {'n_estimators': [50, 100, 200],\n",
        "                       'learning_rate': [0.01, 0.1, 1.0],\n",
        "                       'max_depth': [3, 5, 7]}"
      ],
      "metadata": {
        "id": "fzsJLYMVhMG1"
      },
      "execution_count": 60,
      "outputs": []
    },
    {
      "cell_type": "code",
      "source": [
        "# Realizar una búsqueda de cuadrícula para encontrar los mejores hiperparámetros para cada modelo\n",
        "grid_bagging = GridSearchCV(bagging, param_grid_bagging, cv=5)\n",
        "grid_bagging.fit(X_train, y_train)\n",
        "grid_boosting = GridSearchCV(boosting, param_grid_boosting, cv=5)\n",
        "grid_boosting.fit(X_train, y_train)"
      ],
      "metadata": {
        "colab": {
          "base_uri": "https://localhost:8080/",
          "height": 118
        },
        "id": "luVr3FFyhMD6",
        "outputId": "4c7f47a0-7cd5-4e48-8daa-01a725ed9788"
      },
      "execution_count": 61,
      "outputs": [
        {
          "output_type": "execute_result",
          "data": {
            "text/plain": [
              "GridSearchCV(cv=5, estimator=GradientBoostingRegressor(),\n",
              "             param_grid={'learning_rate': [0.01, 0.1, 1.0],\n",
              "                         'max_depth': [3, 5, 7],\n",
              "                         'n_estimators': [50, 100, 200]})"
            ],
            "text/html": [
              "<style>#sk-container-id-4 {color: black;background-color: white;}#sk-container-id-4 pre{padding: 0;}#sk-container-id-4 div.sk-toggleable {background-color: white;}#sk-container-id-4 label.sk-toggleable__label {cursor: pointer;display: block;width: 100%;margin-bottom: 0;padding: 0.3em;box-sizing: border-box;text-align: center;}#sk-container-id-4 label.sk-toggleable__label-arrow:before {content: \"▸\";float: left;margin-right: 0.25em;color: #696969;}#sk-container-id-4 label.sk-toggleable__label-arrow:hover:before {color: black;}#sk-container-id-4 div.sk-estimator:hover label.sk-toggleable__label-arrow:before {color: black;}#sk-container-id-4 div.sk-toggleable__content {max-height: 0;max-width: 0;overflow: hidden;text-align: left;background-color: #f0f8ff;}#sk-container-id-4 div.sk-toggleable__content pre {margin: 0.2em;color: black;border-radius: 0.25em;background-color: #f0f8ff;}#sk-container-id-4 input.sk-toggleable__control:checked~div.sk-toggleable__content {max-height: 200px;max-width: 100%;overflow: auto;}#sk-container-id-4 input.sk-toggleable__control:checked~label.sk-toggleable__label-arrow:before {content: \"▾\";}#sk-container-id-4 div.sk-estimator input.sk-toggleable__control:checked~label.sk-toggleable__label {background-color: #d4ebff;}#sk-container-id-4 div.sk-label input.sk-toggleable__control:checked~label.sk-toggleable__label {background-color: #d4ebff;}#sk-container-id-4 input.sk-hidden--visually {border: 0;clip: rect(1px 1px 1px 1px);clip: rect(1px, 1px, 1px, 1px);height: 1px;margin: -1px;overflow: hidden;padding: 0;position: absolute;width: 1px;}#sk-container-id-4 div.sk-estimator {font-family: monospace;background-color: #f0f8ff;border: 1px dotted black;border-radius: 0.25em;box-sizing: border-box;margin-bottom: 0.5em;}#sk-container-id-4 div.sk-estimator:hover {background-color: #d4ebff;}#sk-container-id-4 div.sk-parallel-item::after {content: \"\";width: 100%;border-bottom: 1px solid gray;flex-grow: 1;}#sk-container-id-4 div.sk-label:hover label.sk-toggleable__label {background-color: #d4ebff;}#sk-container-id-4 div.sk-serial::before {content: \"\";position: absolute;border-left: 1px solid gray;box-sizing: border-box;top: 0;bottom: 0;left: 50%;z-index: 0;}#sk-container-id-4 div.sk-serial {display: flex;flex-direction: column;align-items: center;background-color: white;padding-right: 0.2em;padding-left: 0.2em;position: relative;}#sk-container-id-4 div.sk-item {position: relative;z-index: 1;}#sk-container-id-4 div.sk-parallel {display: flex;align-items: stretch;justify-content: center;background-color: white;position: relative;}#sk-container-id-4 div.sk-item::before, #sk-container-id-4 div.sk-parallel-item::before {content: \"\";position: absolute;border-left: 1px solid gray;box-sizing: border-box;top: 0;bottom: 0;left: 50%;z-index: -1;}#sk-container-id-4 div.sk-parallel-item {display: flex;flex-direction: column;z-index: 1;position: relative;background-color: white;}#sk-container-id-4 div.sk-parallel-item:first-child::after {align-self: flex-end;width: 50%;}#sk-container-id-4 div.sk-parallel-item:last-child::after {align-self: flex-start;width: 50%;}#sk-container-id-4 div.sk-parallel-item:only-child::after {width: 0;}#sk-container-id-4 div.sk-dashed-wrapped {border: 1px dashed gray;margin: 0 0.4em 0.5em 0.4em;box-sizing: border-box;padding-bottom: 0.4em;background-color: white;}#sk-container-id-4 div.sk-label label {font-family: monospace;font-weight: bold;display: inline-block;line-height: 1.2em;}#sk-container-id-4 div.sk-label-container {text-align: center;}#sk-container-id-4 div.sk-container {/* jupyter's `normalize.less` sets `[hidden] { display: none; }` but bootstrap.min.css set `[hidden] { display: none !important; }` so we also need the `!important` here to be able to override the default hidden behavior on the sphinx rendered scikit-learn.org. See: https://github.com/scikit-learn/scikit-learn/issues/21755 */display: inline-block !important;position: relative;}#sk-container-id-4 div.sk-text-repr-fallback {display: none;}</style><div id=\"sk-container-id-4\" class=\"sk-top-container\"><div class=\"sk-text-repr-fallback\"><pre>GridSearchCV(cv=5, estimator=GradientBoostingRegressor(),\n",
              "             param_grid={&#x27;learning_rate&#x27;: [0.01, 0.1, 1.0],\n",
              "                         &#x27;max_depth&#x27;: [3, 5, 7],\n",
              "                         &#x27;n_estimators&#x27;: [50, 100, 200]})</pre><b>In a Jupyter environment, please rerun this cell to show the HTML representation or trust the notebook. <br />On GitHub, the HTML representation is unable to render, please try loading this page with nbviewer.org.</b></div><div class=\"sk-container\" hidden><div class=\"sk-item sk-dashed-wrapped\"><div class=\"sk-label-container\"><div class=\"sk-label sk-toggleable\"><input class=\"sk-toggleable__control sk-hidden--visually\" id=\"sk-estimator-id-4\" type=\"checkbox\" ><label for=\"sk-estimator-id-4\" class=\"sk-toggleable__label sk-toggleable__label-arrow\">GridSearchCV</label><div class=\"sk-toggleable__content\"><pre>GridSearchCV(cv=5, estimator=GradientBoostingRegressor(),\n",
              "             param_grid={&#x27;learning_rate&#x27;: [0.01, 0.1, 1.0],\n",
              "                         &#x27;max_depth&#x27;: [3, 5, 7],\n",
              "                         &#x27;n_estimators&#x27;: [50, 100, 200]})</pre></div></div></div><div class=\"sk-parallel\"><div class=\"sk-parallel-item\"><div class=\"sk-item\"><div class=\"sk-label-container\"><div class=\"sk-label sk-toggleable\"><input class=\"sk-toggleable__control sk-hidden--visually\" id=\"sk-estimator-id-5\" type=\"checkbox\" ><label for=\"sk-estimator-id-5\" class=\"sk-toggleable__label sk-toggleable__label-arrow\">estimator: GradientBoostingRegressor</label><div class=\"sk-toggleable__content\"><pre>GradientBoostingRegressor()</pre></div></div></div><div class=\"sk-serial\"><div class=\"sk-item\"><div class=\"sk-estimator sk-toggleable\"><input class=\"sk-toggleable__control sk-hidden--visually\" id=\"sk-estimator-id-6\" type=\"checkbox\" ><label for=\"sk-estimator-id-6\" class=\"sk-toggleable__label sk-toggleable__label-arrow\">GradientBoostingRegressor</label><div class=\"sk-toggleable__content\"><pre>GradientBoostingRegressor()</pre></div></div></div></div></div></div></div></div></div></div>"
            ]
          },
          "metadata": {},
          "execution_count": 61
        }
      ]
    },
    {
      "cell_type": "code",
      "source": [
        "# Imprimir los mejores hiperparámetros y la puntuación de validación cruzada\n",
        "print(\"Best Bagging Parameters: \", grid_bagging.best_params_)\n",
        "print(\"Best Bagging CV Score: \", grid_bagging.best_score_)\n",
        "print(\"Best Boosting Parameters: \", grid_boosting.best_params_)\n",
        "print(\"Best Boosting CV Score: \", grid_boosting.best_score_)"
      ],
      "metadata": {
        "colab": {
          "base_uri": "https://localhost:8080/"
        },
        "id": "CjHk7ouGhMBK",
        "outputId": "6e34abf0-9f69-4912-81c7-dbac1db8ff9e"
      },
      "execution_count": 62,
      "outputs": [
        {
          "output_type": "stream",
          "name": "stdout",
          "text": [
            "Best Bagging Parameters:  {'max_features': 1.0, 'max_samples': 1.0, 'n_estimators': 50}\n",
            "Best Bagging CV Score:  0.686425608873648\n",
            "Best Boosting Parameters:  {'learning_rate': 0.1, 'max_depth': 5, 'n_estimators': 200}\n",
            "Best Boosting CV Score:  0.7356172427592741\n"
          ]
        }
      ]
    },
    {
      "cell_type": "code",
      "source": [
        "# Utilizar los modelos con los mejores hiperparámetros para hacer predicciones en los datos de validación\n",
        "y_pred_bagging = grid_bagging.predict(X_val)\n",
        "y_pred_boosting = grid_boosting.predict(X_val)\n",
        "\n",
        "# Evaluar los modelos en los datos de validación utilizando el error absoluto medio\n",
        "mae_bagging = mean_absolute_error(y_val, y_pred_bagging)\n",
        "mae_boosting = mean_absolute_error(y_val, y_pred_boosting)\n",
        "print(\"Bagging Validation MAE:\", mae_bagging)\n",
        "print(\"Boosting Validation MAE:\", mae_boosting)"
      ],
      "metadata": {
        "colab": {
          "base_uri": "https://localhost:8080/"
        },
        "id": "3VzxJ92DmR7A",
        "outputId": "3a686550-aa27-4f27-c38b-9948b8e65144"
      },
      "execution_count": 63,
      "outputs": [
        {
          "output_type": "stream",
          "name": "stdout",
          "text": [
            "Bagging Validation MAE: 13.49455479452055\n",
            "Boosting Validation MAE: 11.883478068999684\n"
          ]
        }
      ]
    },
    {
      "cell_type": "code",
      "source": [
        "# Hacer predicciones en los datos de prueba con los modelos Bagging y Boosting ajustados\n",
        "y_pred_bagging = grid_bagging.predict(X_test)\n",
        "y_pred_boosting = grid_boosting.predict(X_test)"
      ],
      "metadata": {
        "id": "3tsA5AVShL-K"
      },
      "execution_count": 64,
      "outputs": []
    },
    {
      "cell_type": "code",
      "source": [
        "# Transformar los valores negativos en cero\n",
        "y_pred_bagging = np.clip(y_pred_bagging, a_min=0, a_max=None)\n",
        "y_pred_boosting = np.clip(y_pred_boosting, a_min=0, a_max=None)"
      ],
      "metadata": {
        "id": "WxnroT9pahR-"
      },
      "execution_count": 65,
      "outputs": []
    },
    {
      "cell_type": "code",
      "source": [
        "# Redondear los valores a enteros\n",
        "y_pred_bagging = np.round(y_pred_bagging).astype(int)\n",
        "y_pred_boosting = np.round(y_pred_boosting).astype(int)"
      ],
      "metadata": {
        "id": "9Kz0WEMHahPe"
      },
      "execution_count": 66,
      "outputs": []
    },
    {
      "cell_type": "code",
      "source": [
        "# Crear archivos de envío en formato CSV con las predicciones de Bagging y Boosting\n",
        "submission_bagging = pd.DataFrame({\n",
        "    \"city\": test[\"city\"],\n",
        "    \"year\": test[\"year\"],\n",
        "    \"weekofyear\": test[\"weekofyear\"],\n",
        "    \"total_cases\": y_pred_bagging\n",
        "})\n",
        "submission_bagging.to_csv(\"sub_bagging.csv\", index=False)\n",
        "\n",
        "submission_boosting = pd.DataFrame({\n",
        "    \"city\": test[\"city\"],\n",
        "    \"year\": test[\"year\"],\n",
        "    \"weekofyear\": test[\"weekofyear\"],\n",
        "    \"total_cases\": y_pred_boosting\n",
        "})\n",
        "submission_boosting.to_csv(\"sub_boosting.csv\", index=False)"
      ],
      "metadata": {
        "id": "ylWpo1qWP_Fr"
      },
      "execution_count": 67,
      "outputs": []
    },
    {
      "cell_type": "markdown",
      "source": [
        "El bagging es una técnica que utiliza el conjunto de datos de entrenamiento para entrenar múltiples modelos de árbol de decisión independientes y luego combinan las predicciones de cada modelo para obtener una predicción final. El boosting, por otro lado, también entrena múltiples modelos de árbol de decisión secuenciales, pero se enfoca en mejorar los errores de predicción en cada iteración mediante el ajuste de los pesos de los datos de entrenamiento.\n",
        "\n",
        "Los resultados que se muestran incluyen los mejores hiperparámetros encontrados mediante la técnica de validación cruzada. Para el método bagging, se encontró que los mejores hiperparámetros incluyen un número de estimadores de 100, un límite de características máximo de 1.0 y un límite de muestras máximo de 0.5. La puntuación de validación cruzada obtenida fue de -0.18562413107172718, que representa el error cuadrático medio en los datos de validación.\n",
        "\n",
        "Para el método boosting, se encontraron los mejores hiperparámetros con un valor de tasa de aprendizaje de 0.01, un límite de profundidad máximo de 3 y un número de estimadores de 200. La puntuación de validación cruzada obtenida fue de -0.1282509716339027, que es significativamente menor que la puntuación obtenida por el método bagging.\n",
        "\n",
        "**Bagging**\n",
        "\n",
        "![image.png](data:image/png;base64,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)\n",
        "\n",
        "**Boosting**\n",
        "\n",
        "![image.png](data:image/png;base64,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)\n"
      ],
      "metadata": {
        "id": "M37ZsRvO-7-q"
      }
    },
    {
      "cell_type": "markdown",
      "source": [
        "---\n",
        "# Conclusiones\n",
        "---"
      ],
      "metadata": {
        "id": "z0Z17uJnXxn9"
      }
    },
    {
      "cell_type": "markdown",
      "source": [
        "| Modelo | MAE test (DrivenData) | MAE validación | Algoritmo | Hiperparámetros | Características\n",
        "| --- | --- | --- | --- | --- | --- |\n",
        "| Final | 27,4063 | 13.4267 | Algoritmo3 | hp1=100; hp2=10 | La combinación de múltiples árboles de decisión reduce el sobreajuste y mejora la generalización del modelo en nuevos datos no vistos durante el entrenamiento.\n",
        "| Regresión Lineal | 30,1659 | 23.6112 | Algoritmo1 | hp1=0,2| Se utilizan siete características distintas relacionadas con la humedad, temperatura y precipitación en la zona en la que se hace la predicción, se utiliza el método de validación cruzada para dividir el conjunto de entrenamiento en varias partes y evaluar el rendimiento del modelo en cada una de ellas.\n",
        "| Árboles de Decisión | 30,0385 | 16.8496 | Algoritmo2 | hp1=20 | Utiliza una profundidad máxima de 20, lo que significa que el árbol puede tener un máximo de 20 niveles de profundidad, Utiliza la función de pérdida de mínimos cuadrados para la regresión, lo que significa que el modelo intenta minimizar la suma de los errores cuadráticos entre las predicciones y los valores reales de la variable objetivo.\n",
        "| Random Forest | 27,4063 | 13.4267 | Algoritmo3 | hp1=100; hp2=10 | La combinación de múltiples árboles de decisión reduce el sobreajuste y mejora la generalización del modelo en nuevos datos no vistos durante el entrenamiento.\n",
        "| SVM | 31,9183 | 16.9901 | Algoritmo4 | hp1=1; hp2=0,1; hp3=linear | Se utiliza GridSearchCV para realizar una búsqueda exhaustiva de los mejores hiperparámetros para el modelo SVM, una vez que se encuentran los mejores hiperparámetros, se ajusta el modelo SVM utilizando esos hiperparámetros y se hace una predicción en los datos de prueba.\n",
        "| Boosting | 27,4183 | 11.8834 | Algoritmo5 | hp1=0,1; hp2=5; hp3=200 | se enfoca en reducir el sesgo al mejorar gradualmente la precisión de un único modelo débil mediante la agregación de múltiples modelos\n",
        "| Bagging | 29,0601 | 13,4945 | Algoritmo6 | hp1=1; hp2=1; hp3=50 | se enfoca en reducir la varianza al promediar las predicciones de múltiples modelos entrenados en diferentes subconjuntos de los datos de entrenamiento."
      ],
      "metadata": {
        "id": "95vZuMcaRqtL"
      }
    },
    {
      "cell_type": "markdown",
      "source": [
        "Según los datos obtenidos de la competición de DrivenData el mejor modelo es el de Random Forest con una puntuación de 27,4063, además el valor de MAE validation es de 13,4267, lo que indica que el modelo no sufrió de sobreajuste y logró generalizar bien en nuevos datos no vistos durante el entrenamiento.\n",
        "\n",
        "Una de las características distintivas de Random Forest es que combina múltiples árboles de decisión para reducir el sobreajuste y mejorar la generalización del modelo en nuevos datos. En este caso, se utilizó un conjunto de 100 árboles con profundidad máxima de 10. Además, se utilizaron varias características relacionadas con la humedad, temperatura y precipitación en la zona en la que se hace la predicción.\n",
        "\n",
        "En cuanto a los otros modelos, la regresión lineal tiene un rendimiento mediocre y no logra superar el umbral de MAE test establecido al igual que el árbol de decisión. Este último tiene su MAE validación más alta similiar al modelo SVM, lo que sugiere que pueden haber sobreajustado los datos de entrenamiento. El modelo SVM tiene un rendimiento mediocre y tarda mucho en ajustar los hiperparámetros óptimos. El modelo Bagging tiene un rendimiento inferior al modelo Boosting debido a que se enfoca en reducir la varianza al promediar las predicciones de múltiples modelos en lugar de reducir el sesgo.\n",
        "\n",
        "**Trabajo Futuro**\n",
        "\n",
        "Algunas posibles mejoras que se podrían considerar para mejorar el puntaje de MAE test en el futuro son:\n",
        "\n",
        "1. Realizar una selección más cuidadosa de las características (o características más relevantes) para el modelo, ya que esto puede ayudar a reducir el ruido en los datos y mejorar la precisión de las predicciones.\n",
        "\n",
        "2. Explorar una gama más amplia de valores para los hiperparámetros del modelo, utilizando técnicas como la búsqueda aleatoria o la optimización bayesiana para encontrar combinaciones óptimas de hiperparámetros.\n",
        "\n",
        "3. Utilizar otras técnicas de preprocesamiento de datos para limpiar y normalizar los datos, lo que puede mejorar la calidad de las predicciones del modelo.\n",
        "\n",
        "4. Considerar el uso de técnicas de ensamblaje más avanzadas, como Stacking o Boosting combinado con Bagging, que pueden producir modelos más robustos y precisos.\n",
        "\n",
        "5. Incorporar datos adicionales, como información sobre la densidad de población o la infraestructura de la ciudad, que pueden ayudar a mejorar la precisión del modelo al proporcionar una comprensión más completa de las condiciones socioeconómicas y ambientales de la zona en la que se está realizando la predicción."
      ],
      "metadata": {
        "id": "bliVWoDUR25L"
      }
    },
    {
      "cell_type": "markdown",
      "source": [
        "---\n",
        "# Competición\n",
        "---"
      ],
      "metadata": {
        "id": "odvxoXSG-0Xp"
      }
    },
    {
      "cell_type": "markdown",
      "source": [
        "![image.png](data:image/png;base64,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)\n",
        "\n",
        "![image.png](data:image/png;base64,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)"
      ],
      "metadata": {
        "id": "wCeKTWjvoTya"
      }
    }
  ]
}